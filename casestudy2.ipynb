{
 "cells": [
  {
   "cell_type": "markdown",
   "metadata": {},
   "source": [
    "# IFN645 Case Study 2\n",
    "## Mining from Manufacturing, Supermarket, News Stories and Web Log Data\n",
    "\n",
    "### Contents\n",
    "1. [Clustering & Pre-processing](#clust)\n",
    "2. [Association Mining](#association)\n",
    "3. [Text Mining](#text)\n",
    "4. [Web Mining](#web)\n",
    "\n",
    "---\n",
    "## Part 1: Clustering Pre-processing and K-means analysis<a name=\"clust\"></a>\n",
    "### 1. Can you identify data quality issues in this dataset such as unusual data types, missing values, etc?\n",
    "Upon examination of the MODEL-CAR-SALES dataset, uncovered the following data quality issues: \n",
    "#### Unusual Datatypes\n",
    "Unusual Datatypes were detected in the following columns\n",
    "<table>\n",
    "<tr>\n",
    "<th>Variable Name</th>\n",
    "<th>Current Datatype</th>\n",
    "<th>Desired Datatype</th>\n",
    "</tr>\n",
    "<tr>\n",
    "<td>HATCH</td>\n",
    "<td>Object</td>\n",
    "<td>int64</td>\n",
    "</tr>\n",
    "<tr>\n",
    "<td>SEDAN</td>\n",
    "<td>Object</td>\n",
    "<td>int64</td>\n",
    "</tr>\n",
    "<tr>\n",
    "<td>WAGON</td>\n",
    "<td>Object</td>\n",
    "<td>int64</td>\n",
    "</tr>\n",
    "<tr>\n",
    "<td>UTE</td>\n",
    "<td>Object</td>\n",
    "<td>int64</td>\n",
    "</tr>\n",
    "<tr>\n",
    "<td>K_SALES_TOT </td>\n",
    "<td>Object</td>\n",
    "<td>int64</td>\n",
    "</tr>\n",
    "</table>\n",
    "     \n",
    "are all of type object, instead of type int64\n",
    "The value of K_SALES_TOT is ambiguous, as the values in this field don't align with the values described by correspoinding car models\n",
    "#### Missing Values\n",
    "Missing Values are present int he following Variables:\n",
    "<table>\n",
    "    <tr>\n",
    "        <th>Variable Name</th>\n",
    "        <th># Missing Values</th>\n",
    "    </tr>\n",
    "    <tr>\n",
    "        <td>HATCH</td>\n",
    "        <td>22</td>\n",
    "    </tr>\n",
    "    <tr>\n",
    "        <td>SEDAN</td>\n",
    "        <td>22</td>\n",
    "    </tr>\n",
    "    <tr>\n",
    "        <td>WAGON</td>\n",
    "        <td>22</td>\n",
    "    </tr>\n",
    "    <tr>\n",
    "        <td>UTE</td>\n",
    "        <td>22</td>\n",
    "    </tr>\n",
    "    <tr>\n",
    "        <td>K_SALES_TOT</td>\n",
    "        <td>22</td>\n",
    "    </tr>\n",
    "</table>"
   ]
  },
  {
   "cell_type": "markdown",
   "metadata": {},
   "source": [
    "---\n",
    "## Part 2: Association Mining and it's data Pre-processing<a name=\"association\"></a>\n",
    "\n",
    "\n",
    "\n"
   ]
  },
  {
   "cell_type": "markdown",
   "metadata": {},
   "source": [
    "---\n",
    "## Part 3: Text Mining<a name=\"text\"></a>\n",
    "\n",
    "\n",
    "\n"
   ]
  },
  {
   "cell_type": "markdown",
   "metadata": {},
   "source": [
    "---\n",
    "## Part 4: Web Mining<a name=\"web\"></a>\n",
    "\n",
    "\n",
    "\n"
   ]
  }
 ],
 "metadata": {
  "kernelspec": {
   "display_name": "Python 3",
   "language": "python",
   "name": "python3"
  },
  "language_info": {
   "codemirror_mode": {
    "name": "ipython",
    "version": 3
   },
   "file_extension": ".py",
   "mimetype": "text/x-python",
   "name": "python",
   "nbconvert_exporter": "python",
   "pygments_lexer": "ipython3",
   "version": "3.6.1"
  }
 },
 "nbformat": 4,
 "nbformat_minor": 2
}
