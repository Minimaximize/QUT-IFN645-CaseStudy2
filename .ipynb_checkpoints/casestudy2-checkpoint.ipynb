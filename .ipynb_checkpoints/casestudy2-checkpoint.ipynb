{
 "cells": [
  {
   "cell_type": "markdown",
   "metadata": {},
   "source": [
    "# IFN645 Case Study 2\n",
    "## Mining from Manufacturing, Supermarket, News Stories and Web Log Data\n",
    "\n",
    "### Contents\n",
    "1. [Clustering & Pre-processing](#clust)\n",
    "2. [Association Mining](#association)\n",
    "3. [Text Mining](#text)\n",
    "4. [Web Mining](#web)\n",
    "\n",
    "---\n",
    "## Part 1: Clustering Pre-processing and K-means analysis<a name=\"clust\"></a>\n",
    "### 1. Can you identify data quality issues in this dataset such as unusual data types, missing values, etc?\n",
    "In the process of importing the data, the dataframe.info() method can be used to evaluate the dataset."
   ]
  },
  {
   "cell_type": "code",
   "execution_count": 43,
   "metadata": {
    "scrolled": true
   },
   "outputs": [
    {
     "name": "stdout",
     "output_type": "stream",
     "text": [
      "<class 'pandas.core.frame.DataFrame'>\n",
      "RangeIndex: 675 entries, 0 to 674\n",
      "Data columns (total 8 columns):\n",
      "LOCATION_NUMBER    675 non-null int64\n",
      "REPORT_DATE        675 non-null object\n",
      "DEALER_CODE        675 non-null object\n",
      "UTE                675 non-null object\n",
      "HATCH              675 non-null object\n",
      "WAG0N              675 non-null object\n",
      "SEDAN              675 non-null object\n",
      "K__SALES_TOT       675 non-null object\n",
      "dtypes: int64(1), object(7)\n",
      "memory usage: 42.3+ KB\n"
     ]
    }
   ],
   "source": [
    "import pandas as pd\n",
    "# Import Data from csv without skipping empty cells\n",
    "df = pd.read_csv('Casestudy2-Data-Py/model_car_sales.csv', na_filter=False)\n",
    "df.info()"
   ]
  },
  {
   "cell_type": "markdown",
   "metadata": {},
   "source": [
    "From the `info()` output, we can identify the following issues\n",
    "\n",
    "#### Unusual Datatypes\n",
    "<table>\n",
    "<tr>\n",
    "<th>Variable Name</th>\n",
    "<th>Current Datatype</th>\n",
    "<th>Desired Datatype</th>\n",
    "</tr>\n",
    "<tr>\n",
    "<td>HATCH</td>\n",
    "<td>Object</td>\n",
    "<td>int64</td>\n",
    "</tr>\n",
    "<tr>\n",
    "<td>SEDAN</td>\n",
    "<td>Object</td>\n",
    "<td>int64</td>\n",
    "</tr>\n",
    "<tr>\n",
    "<td>WAGON</td>\n",
    "<td>Object</td>\n",
    "<td>int64</td>\n",
    "</tr>\n",
    "<tr>\n",
    "<td>UTE</td>\n",
    "<td>Object</td>\n",
    "<td>int64</td>\n",
    "</tr>\n",
    "<tr>\n",
    "<td>K_SALES_TOT </td>\n",
    "<td>Object</td>\n",
    "<td>int64</td>\n",
    "</tr>\n",
    "</table>\n",
    "     \n",
    "For the given data description, the fields `UTE`, `HATCH`,`SEDAN`, `WAG0N` and `K_SALES_TOT` should be interval/numerical values as opposed to objects.\n",
    "By using the `.describe()` function, we may be able to uncover the source of the issues in the dataset"
   ]
  },
  {
   "cell_type": "code",
   "execution_count": 44,
   "metadata": {},
   "outputs": [
    {
     "name": "stdout",
     "output_type": "stream",
     "text": [
      "count    675.0\n",
      "mean     338.0\n",
      "std      195.0\n",
      "min        1.0\n",
      "25%      169.5\n",
      "50%      338.0\n",
      "75%      506.5\n",
      "max      675.0\n",
      "Name: LOCATION_NUMBER, dtype: float64\n",
      "--------------------\n",
      "count            675\n",
      "unique             1\n",
      "top       2013-04-30\n",
      "freq             675\n",
      "Name: REPORT_DATE, dtype: object\n",
      "--------------------\n",
      "count          675\n",
      "unique         675\n",
      "top       Euro-376\n",
      "freq             1\n",
      "Name: DEALER_CODE, dtype: object\n",
      "--------------------\n",
      "count     675\n",
      "unique    143\n",
      "top          \n",
      "freq       22\n",
      "Name: UTE, dtype: object\n",
      "--------------------\n",
      "count     675\n",
      "unique    518\n",
      "top          \n",
      "freq       22\n",
      "Name: HATCH, dtype: object\n",
      "--------------------\n",
      "count     675\n",
      "unique    426\n",
      "top          \n",
      "freq       22\n",
      "Name: WAG0N, dtype: object\n",
      "--------------------\n",
      "count     675\n",
      "unique    501\n",
      "top          \n",
      "freq       22\n",
      "Name: SEDAN, dtype: object\n",
      "--------------------\n",
      "count     675\n",
      "unique    109\n",
      "top       932\n",
      "freq       25\n",
      "Name: K__SALES_TOT, dtype: object\n",
      "--------------------\n"
     ]
    }
   ],
   "source": [
    "# print details for all variables in dataframe\n",
    "for cols in df:\n",
    "    print(df[cols].describe())\n",
    "    print(\"-\"*20)"
   ]
  },
  {
   "cell_type": "markdown",
   "metadata": {},
   "source": [
    "Analysis of the `.describe()` output show a number of unusual results which may explain the cause of the unusual data types.\n",
    "\n",
    "For this output, `top` describes the most commonly occuring value in the dataset. For the fields `UTE`, `HATCH`, `WAG0N` and `SEDAN`, that value appears to be an empty string.\n",
    "\n",
    "The output of the `value_counts()` function (see below) allow us to identify this as the root cause of our data abnormalities."
   ]
  },
  {
   "cell_type": "code",
   "execution_count": 45,
   "metadata": {},
   "outputs": [
    {
     "name": "stdout",
     "output_type": "stream",
     "text": [
      "       22\n",
      "81     15\n",
      "92     15\n",
      "80     12\n",
      "90     12\n",
      "106    11\n",
      "72     11\n",
      "100    11\n",
      "97     10\n",
      "84     10\n",
      "83     10\n",
      "91      9\n",
      "93      9\n",
      "75      9\n",
      "73      9\n",
      "99      9\n",
      "70      9\n",
      "88      9\n",
      "116     9\n",
      "77      9\n",
      "82      9\n",
      "68      9\n",
      "69      9\n",
      "78      8\n",
      "114     8\n",
      "85      8\n",
      "98      8\n",
      "74      8\n",
      "89      8\n",
      "66      8\n",
      "       ..\n",
      "146     1\n",
      "9       1\n",
      "39      1\n",
      "197     1\n",
      "23      1\n",
      "46      1\n",
      "131     1\n",
      "142     1\n",
      "209     1\n",
      "173     1\n",
      "202     1\n",
      "37      1\n",
      "198     1\n",
      "155     1\n",
      "143     1\n",
      "206     1\n",
      "153     1\n",
      "52      1\n",
      "41      1\n",
      "178     1\n",
      "190     1\n",
      "166     1\n",
      "40      1\n",
      "191     1\n",
      "31      1\n",
      "150     1\n",
      "180     1\n",
      "157     1\n",
      "8       1\n",
      "196     1\n",
      "Name: UTE, Length: 143, dtype: int64\n"
     ]
    }
   ],
   "source": [
    "# Check for cause of issues in one of the variables\n",
    "print(df['UTE'].value_counts())"
   ]
  },
  {
   "cell_type": "markdown",
   "metadata": {},
   "source": [
    "Additionally, we can isolate the rows containing the empty string in order to determine if there is a link between the missing variables in the data source.\n",
    "By using the `.values()` or `as_matrix()` functions to gather all of the readings where UTE is equal to an empty string we ge the following output:"
   ]
  },
  {
   "cell_type": "code",
   "execution_count": 46,
   "metadata": {},
   "outputs": [
    {
     "name": "stdout",
     "output_type": "stream",
     "text": [
      "[[4 '2013-04-30' 'Euro-103' '' '' '' '' '']\n",
      " [24 '2013-04-30' 'Euro-123' '' '' '' '' '']\n",
      " [50 '2013-04-30' 'Euro-149' '' '' '' '' '']\n",
      " [108 '2013-04-30' 'Euro-201' '' '' '' '' '']\n",
      " [173 '2013-04-30' 'Euro-260' '' '' '' '' '']\n",
      " [174 '2013-04-30' 'Euro-261' '' '' '' '' '']\n",
      " [175 '2013-04-30' 'Euro-262' '' '' '' '' '']\n",
      " [176 '2013-04-30' 'Euro-263' '' '' '' '' '']\n",
      " [177 '2013-04-30' 'Euro-264' '' '' '' '' '']\n",
      " [198 '2013-04-30' 'Euro-283' '' '' '' '' '']\n",
      " [199 '2013-04-30' 'Euro-284' '' '' '' '' '']\n",
      " [200 '2013-04-30' 'Euro-285' '' '' '' '' '']\n",
      " [298 '2013-04-30' 'Euro-374' '' '' '' '' '']\n",
      " [299 '2013-04-30' 'Euro-375' '' '' '' '' '']\n",
      " [300 '2013-04-30' 'Euro-376' '' '' '' '' '']\n",
      " [643 '2013-04-30' 'Euro-688' '' '' '' '' '']\n",
      " [644 '2013-04-30' 'Euro-689' '' '' '' '' '']\n",
      " [645 '2013-04-30' 'Euro-69' '' '' '' '' '']\n",
      " [646 '2013-04-30' 'Euro-70' '' '' '' '' '']\n",
      " [665 '2013-04-30' 'Euro-89' '' '' '' '' '']\n",
      " [666 '2013-04-30' 'Euro-90' '' '' '' '' '']\n",
      " [667 '2013-04-30' 'Euro-91' '' '' '' '' '']]\n"
     ]
    }
   ],
   "source": [
    "# See Rows where UTE contains empty string\n",
    "print(df[df['UTE']==''].as_matrix())"
   ]
  },
  {
   "cell_type": "markdown",
   "metadata": {},
   "source": [
    "#### Missing Values\n",
    "This coencides with the missing values found present in the `HATCH`,`SEDAN` and `WAG0N` fields as well, additionally identifying 22 rows where the `K_SALES_TOT` variable is also missing. A tabulated view of the results can be found below.\n",
    "\n",
    "<table>\n",
    "    <tr>\n",
    "        <th>Variable Name</th>\n",
    "        <th># Missing Values</th>\n",
    "    </tr>\n",
    "    <tr>\n",
    "        <td>HATCH</td>\n",
    "        <td>22</td>\n",
    "    </tr>\n",
    "    <tr>\n",
    "        <td>SEDAN</td>\n",
    "        <td>22</td>\n",
    "    </tr>\n",
    "    <tr>\n",
    "        <td>WAGON</td>\n",
    "        <td>22</td>\n",
    "    </tr>\n",
    "    <tr>\n",
    "        <td>UTE</td>\n",
    "        <td>22</td>\n",
    "    </tr>\n",
    "    <tr>\n",
    "        <td>K_SALES_TOT</td>\n",
    "        <td>22</td>\n",
    "    </tr>\n",
    "</table>"
   ]
  },
  {
   "cell_type": "markdown",
   "metadata": {},
   "source": [
    "### 2. What variables did you include in the analysis and what were their roles and measurement level set? Justify your choice.\n",
    "For our analysis of the "
   ]
  },
  {
   "cell_type": "markdown",
   "metadata": {},
   "source": [
    "---\n",
    "## Part 2: Association Mining and it's data Pre-processing<a name=\"association\"></a>\n",
    "\n",
    "### 1. Can you identify data quality issues in this dataset for performing association mining?\n"
   ]
  },
  {
   "cell_type": "code",
   "execution_count": 47,
   "metadata": {
    "scrolled": true
   },
   "outputs": [
    {
     "name": "stdout",
     "output_type": "stream",
     "text": [
      "<class 'pandas.core.frame.DataFrame'>\n",
      "RangeIndex: 459258 entries, 0 to 459257\n",
      "Data columns (total 5 columns):\n",
      "Location           459258 non-null int64\n",
      "Transaction_Id     459258 non-null int64\n",
      "Transactin_Date    459258 non-null object\n",
      "Product_Name       459258 non-null object\n",
      "Quantity           459258 non-null int64\n",
      "dtypes: int64(3), object(2)\n",
      "memory usage: 17.5+ MB\n",
      "None\n",
      "   Location  Transaction_Id Transactin_Date    Product_Name  Quantity\n",
      "0         2           12359      2012-10-23       Candy Bar         1\n",
      "1         9           12362      2012-10-23   Pain Reliever         1\n",
      "2         9           12362      2012-10-23   Pain Reliever         1\n",
      "3         5           12365      2012-10-23      Toothpaste         1\n",
      "4         2           12371      2012-10-23             Bow         1\n",
      "5         6           12380      2012-10-23  Greeting Cards         1\n",
      "6         1           12383      2012-10-23   Pain Reliever         1\n",
      "7         1           12383      2012-10-23   Pain Reliever         1\n",
      "8         7           12386      2012-10-23   Pain Reliever         1\n",
      "9         7           12386      2012-10-23   Pain Reliever         1\n"
     ]
    }
   ],
   "source": [
    "import pandas as pd\n",
    "\n",
    "# load the transaction dataset\n",
    "df = pd.read_csv('Casestudy2-Data-Py/pos_transactions.csv')\n",
    "\n",
    "# info and the first 10 transactions\n",
    "print(df.info())\n",
    "print(df.head(10))"
   ]
  },
  {
   "cell_type": "markdown",
   "metadata": {},
   "source": [
    "From the first 10 transaction shown above, we can easily see that there are duplicated transactions in the dataset.\n",
    "That can be seen clearly by grouping the data (see the result below)"
   ]
  },
  {
   "cell_type": "code",
   "execution_count": 48,
   "metadata": {
    "scrolled": true
   },
   "outputs": [
    {
     "data": {
      "text/html": [
       "<div>\n",
       "<style>\n",
       "    .dataframe thead tr:only-child th {\n",
       "        text-align: right;\n",
       "    }\n",
       "\n",
       "    .dataframe thead th {\n",
       "        text-align: left;\n",
       "    }\n",
       "\n",
       "    .dataframe tbody tr th {\n",
       "        vertical-align: top;\n",
       "    }\n",
       "</style>\n",
       "<table border=\"1\" class=\"dataframe\">\n",
       "  <thead>\n",
       "    <tr style=\"text-align: right;\">\n",
       "      <th></th>\n",
       "      <th>Location</th>\n",
       "      <th>Transaction_Id</th>\n",
       "      <th>Transactin_Date</th>\n",
       "      <th>Product_Name</th>\n",
       "      <th>Quantity</th>\n",
       "      <th>Frequency</th>\n",
       "    </tr>\n",
       "  </thead>\n",
       "  <tbody>\n",
       "    <tr>\n",
       "      <th>0</th>\n",
       "      <td>1</td>\n",
       "      <td>816536</td>\n",
       "      <td>2012-10-27</td>\n",
       "      <td>Magazine</td>\n",
       "      <td>1</td>\n",
       "      <td>135</td>\n",
       "    </tr>\n",
       "    <tr>\n",
       "      <th>1</th>\n",
       "      <td>6</td>\n",
       "      <td>79610</td>\n",
       "      <td>2012-10-24</td>\n",
       "      <td>Toothpaste</td>\n",
       "      <td>1</td>\n",
       "      <td>96</td>\n",
       "    </tr>\n",
       "    <tr>\n",
       "      <th>2</th>\n",
       "      <td>7</td>\n",
       "      <td>1143932</td>\n",
       "      <td>2012-10-29</td>\n",
       "      <td>Greeting Cards</td>\n",
       "      <td>1</td>\n",
       "      <td>95</td>\n",
       "    </tr>\n",
       "    <tr>\n",
       "      <th>3</th>\n",
       "      <td>8</td>\n",
       "      <td>205484</td>\n",
       "      <td>2012-10-24</td>\n",
       "      <td>Pain Reliever</td>\n",
       "      <td>1</td>\n",
       "      <td>83</td>\n",
       "    </tr>\n",
       "    <tr>\n",
       "      <th>4</th>\n",
       "      <td>8</td>\n",
       "      <td>34322</td>\n",
       "      <td>2012-10-23</td>\n",
       "      <td>Candy Bar</td>\n",
       "      <td>1</td>\n",
       "      <td>78</td>\n",
       "    </tr>\n",
       "    <tr>\n",
       "      <th>5</th>\n",
       "      <td>6</td>\n",
       "      <td>1014407</td>\n",
       "      <td>2012-10-28</td>\n",
       "      <td>Bow</td>\n",
       "      <td>1</td>\n",
       "      <td>75</td>\n",
       "    </tr>\n",
       "    <tr>\n",
       "      <th>6</th>\n",
       "      <td>10</td>\n",
       "      <td>427835</td>\n",
       "      <td>2012-10-26</td>\n",
       "      <td>Magazine</td>\n",
       "      <td>1</td>\n",
       "      <td>73</td>\n",
       "    </tr>\n",
       "    <tr>\n",
       "      <th>7</th>\n",
       "      <td>6</td>\n",
       "      <td>362087</td>\n",
       "      <td>2012-10-25</td>\n",
       "      <td>Candy Bar</td>\n",
       "      <td>1</td>\n",
       "      <td>72</td>\n",
       "    </tr>\n",
       "    <tr>\n",
       "      <th>8</th>\n",
       "      <td>7</td>\n",
       "      <td>205490</td>\n",
       "      <td>2012-10-24</td>\n",
       "      <td>Bow</td>\n",
       "      <td>1</td>\n",
       "      <td>72</td>\n",
       "    </tr>\n",
       "    <tr>\n",
       "      <th>9</th>\n",
       "      <td>1</td>\n",
       "      <td>1068674</td>\n",
       "      <td>2012-10-28</td>\n",
       "      <td>Magazine</td>\n",
       "      <td>1</td>\n",
       "      <td>71</td>\n",
       "    </tr>\n",
       "    <tr>\n",
       "      <th>10</th>\n",
       "      <td>5</td>\n",
       "      <td>712436</td>\n",
       "      <td>2012-10-27</td>\n",
       "      <td>Magazine</td>\n",
       "      <td>1</td>\n",
       "      <td>66</td>\n",
       "    </tr>\n",
       "    <tr>\n",
       "      <th>11</th>\n",
       "      <td>8</td>\n",
       "      <td>205496</td>\n",
       "      <td>2012-10-24</td>\n",
       "      <td>Toothpaste</td>\n",
       "      <td>1</td>\n",
       "      <td>66</td>\n",
       "    </tr>\n",
       "    <tr>\n",
       "      <th>12</th>\n",
       "      <td>9</td>\n",
       "      <td>1140599</td>\n",
       "      <td>2012-10-29</td>\n",
       "      <td>Magazine</td>\n",
       "      <td>1</td>\n",
       "      <td>63</td>\n",
       "    </tr>\n",
       "    <tr>\n",
       "      <th>13</th>\n",
       "      <td>8</td>\n",
       "      <td>205484</td>\n",
       "      <td>2012-10-24</td>\n",
       "      <td>Perfume</td>\n",
       "      <td>1</td>\n",
       "      <td>57</td>\n",
       "    </tr>\n",
       "    <tr>\n",
       "      <th>14</th>\n",
       "      <td>6</td>\n",
       "      <td>450677</td>\n",
       "      <td>2012-10-26</td>\n",
       "      <td>Bow</td>\n",
       "      <td>1</td>\n",
       "      <td>56</td>\n",
       "    </tr>\n",
       "    <tr>\n",
       "      <th>15</th>\n",
       "      <td>5</td>\n",
       "      <td>451640</td>\n",
       "      <td>2012-10-26</td>\n",
       "      <td>Toothpaste</td>\n",
       "      <td>1</td>\n",
       "      <td>54</td>\n",
       "    </tr>\n",
       "    <tr>\n",
       "      <th>16</th>\n",
       "      <td>7</td>\n",
       "      <td>824726</td>\n",
       "      <td>2012-10-27</td>\n",
       "      <td>Bow</td>\n",
       "      <td>1</td>\n",
       "      <td>53</td>\n",
       "    </tr>\n",
       "    <tr>\n",
       "      <th>17</th>\n",
       "      <td>8</td>\n",
       "      <td>315824</td>\n",
       "      <td>2012-10-25</td>\n",
       "      <td>Magazine</td>\n",
       "      <td>1</td>\n",
       "      <td>53</td>\n",
       "    </tr>\n",
       "    <tr>\n",
       "      <th>18</th>\n",
       "      <td>8</td>\n",
       "      <td>400544</td>\n",
       "      <td>2012-10-26</td>\n",
       "      <td>Magazine</td>\n",
       "      <td>1</td>\n",
       "      <td>50</td>\n",
       "    </tr>\n",
       "    <tr>\n",
       "      <th>19</th>\n",
       "      <td>3</td>\n",
       "      <td>75389</td>\n",
       "      <td>2012-10-24</td>\n",
       "      <td>Toothpaste</td>\n",
       "      <td>1</td>\n",
       "      <td>49</td>\n",
       "    </tr>\n",
       "    <tr>\n",
       "      <th>20</th>\n",
       "      <td>1</td>\n",
       "      <td>164825</td>\n",
       "      <td>2012-10-24</td>\n",
       "      <td>Magazine</td>\n",
       "      <td>1</td>\n",
       "      <td>49</td>\n",
       "    </tr>\n",
       "    <tr>\n",
       "      <th>21</th>\n",
       "      <td>10</td>\n",
       "      <td>27950</td>\n",
       "      <td>2012-10-23</td>\n",
       "      <td>Magazine</td>\n",
       "      <td>1</td>\n",
       "      <td>49</td>\n",
       "    </tr>\n",
       "    <tr>\n",
       "      <th>22</th>\n",
       "      <td>8</td>\n",
       "      <td>1049675</td>\n",
       "      <td>2012-10-28</td>\n",
       "      <td>Candy Bar</td>\n",
       "      <td>1</td>\n",
       "      <td>48</td>\n",
       "    </tr>\n",
       "    <tr>\n",
       "      <th>23</th>\n",
       "      <td>4</td>\n",
       "      <td>189611</td>\n",
       "      <td>2012-10-24</td>\n",
       "      <td>Pencils</td>\n",
       "      <td>1</td>\n",
       "      <td>48</td>\n",
       "    </tr>\n",
       "    <tr>\n",
       "      <th>24</th>\n",
       "      <td>7</td>\n",
       "      <td>938843</td>\n",
       "      <td>2012-10-28</td>\n",
       "      <td>Magazine</td>\n",
       "      <td>1</td>\n",
       "      <td>47</td>\n",
       "    </tr>\n",
       "    <tr>\n",
       "      <th>25</th>\n",
       "      <td>4</td>\n",
       "      <td>743966</td>\n",
       "      <td>2012-10-27</td>\n",
       "      <td>Candy Bar</td>\n",
       "      <td>1</td>\n",
       "      <td>46</td>\n",
       "    </tr>\n",
       "    <tr>\n",
       "      <th>26</th>\n",
       "      <td>1</td>\n",
       "      <td>161075</td>\n",
       "      <td>2012-10-24</td>\n",
       "      <td>Magazine</td>\n",
       "      <td>1</td>\n",
       "      <td>45</td>\n",
       "    </tr>\n",
       "    <tr>\n",
       "      <th>27</th>\n",
       "      <td>1</td>\n",
       "      <td>144416</td>\n",
       "      <td>2012-10-24</td>\n",
       "      <td>Magazine</td>\n",
       "      <td>1</td>\n",
       "      <td>45</td>\n",
       "    </tr>\n",
       "    <tr>\n",
       "      <th>28</th>\n",
       "      <td>1</td>\n",
       "      <td>429884</td>\n",
       "      <td>2012-10-26</td>\n",
       "      <td>Magazine</td>\n",
       "      <td>1</td>\n",
       "      <td>45</td>\n",
       "    </tr>\n",
       "    <tr>\n",
       "      <th>29</th>\n",
       "      <td>4</td>\n",
       "      <td>339830</td>\n",
       "      <td>2012-10-25</td>\n",
       "      <td>Magazine</td>\n",
       "      <td>1</td>\n",
       "      <td>42</td>\n",
       "    </tr>\n",
       "    <tr>\n",
       "      <th>...</th>\n",
       "      <td>...</td>\n",
       "      <td>...</td>\n",
       "      <td>...</td>\n",
       "      <td>...</td>\n",
       "      <td>...</td>\n",
       "      <td>...</td>\n",
       "    </tr>\n",
       "    <tr>\n",
       "      <th>290183</th>\n",
       "      <td>7</td>\n",
       "      <td>125954</td>\n",
       "      <td>2012-10-24</td>\n",
       "      <td>Toothpaste</td>\n",
       "      <td>1</td>\n",
       "      <td>1</td>\n",
       "    </tr>\n",
       "    <tr>\n",
       "      <th>290184</th>\n",
       "      <td>7</td>\n",
       "      <td>125963</td>\n",
       "      <td>2012-10-24</td>\n",
       "      <td>Toothpaste</td>\n",
       "      <td>1</td>\n",
       "      <td>1</td>\n",
       "    </tr>\n",
       "    <tr>\n",
       "      <th>290185</th>\n",
       "      <td>7</td>\n",
       "      <td>126134</td>\n",
       "      <td>2012-10-24</td>\n",
       "      <td>Magazine</td>\n",
       "      <td>1</td>\n",
       "      <td>1</td>\n",
       "    </tr>\n",
       "    <tr>\n",
       "      <th>290186</th>\n",
       "      <td>7</td>\n",
       "      <td>126155</td>\n",
       "      <td>2012-10-24</td>\n",
       "      <td>Pens</td>\n",
       "      <td>1</td>\n",
       "      <td>1</td>\n",
       "    </tr>\n",
       "    <tr>\n",
       "      <th>290187</th>\n",
       "      <td>7</td>\n",
       "      <td>127505</td>\n",
       "      <td>2012-10-24</td>\n",
       "      <td>Candy Bar</td>\n",
       "      <td>1</td>\n",
       "      <td>1</td>\n",
       "    </tr>\n",
       "    <tr>\n",
       "      <th>290188</th>\n",
       "      <td>7</td>\n",
       "      <td>127469</td>\n",
       "      <td>2012-10-24</td>\n",
       "      <td>Toothbrush</td>\n",
       "      <td>1</td>\n",
       "      <td>1</td>\n",
       "    </tr>\n",
       "    <tr>\n",
       "      <th>290189</th>\n",
       "      <td>7</td>\n",
       "      <td>127469</td>\n",
       "      <td>2012-10-24</td>\n",
       "      <td>Magazine</td>\n",
       "      <td>1</td>\n",
       "      <td>1</td>\n",
       "    </tr>\n",
       "    <tr>\n",
       "      <th>290190</th>\n",
       "      <td>7</td>\n",
       "      <td>127439</td>\n",
       "      <td>2012-10-24</td>\n",
       "      <td>Pain Reliever</td>\n",
       "      <td>1</td>\n",
       "      <td>1</td>\n",
       "    </tr>\n",
       "    <tr>\n",
       "      <th>290191</th>\n",
       "      <td>7</td>\n",
       "      <td>127361</td>\n",
       "      <td>2012-10-24</td>\n",
       "      <td>Shampoo</td>\n",
       "      <td>1</td>\n",
       "      <td>1</td>\n",
       "    </tr>\n",
       "    <tr>\n",
       "      <th>290192</th>\n",
       "      <td>7</td>\n",
       "      <td>127283</td>\n",
       "      <td>2012-10-24</td>\n",
       "      <td>Greeting Cards</td>\n",
       "      <td>1</td>\n",
       "      <td>1</td>\n",
       "    </tr>\n",
       "    <tr>\n",
       "      <th>290193</th>\n",
       "      <td>7</td>\n",
       "      <td>127178</td>\n",
       "      <td>2012-10-24</td>\n",
       "      <td>Toothbrush</td>\n",
       "      <td>1</td>\n",
       "      <td>1</td>\n",
       "    </tr>\n",
       "    <tr>\n",
       "      <th>290194</th>\n",
       "      <td>7</td>\n",
       "      <td>127163</td>\n",
       "      <td>2012-10-24</td>\n",
       "      <td>Pencils</td>\n",
       "      <td>1</td>\n",
       "      <td>1</td>\n",
       "    </tr>\n",
       "    <tr>\n",
       "      <th>290195</th>\n",
       "      <td>7</td>\n",
       "      <td>127118</td>\n",
       "      <td>2012-10-24</td>\n",
       "      <td>Pencils</td>\n",
       "      <td>1</td>\n",
       "      <td>1</td>\n",
       "    </tr>\n",
       "    <tr>\n",
       "      <th>290196</th>\n",
       "      <td>7</td>\n",
       "      <td>127118</td>\n",
       "      <td>2012-10-24</td>\n",
       "      <td>Greeting Cards</td>\n",
       "      <td>1</td>\n",
       "      <td>1</td>\n",
       "    </tr>\n",
       "    <tr>\n",
       "      <th>290197</th>\n",
       "      <td>7</td>\n",
       "      <td>127118</td>\n",
       "      <td>2012-10-24</td>\n",
       "      <td>Candy Bar</td>\n",
       "      <td>1</td>\n",
       "      <td>1</td>\n",
       "    </tr>\n",
       "    <tr>\n",
       "      <th>290198</th>\n",
       "      <td>7</td>\n",
       "      <td>127088</td>\n",
       "      <td>2012-10-24</td>\n",
       "      <td>Soap</td>\n",
       "      <td>1</td>\n",
       "      <td>1</td>\n",
       "    </tr>\n",
       "    <tr>\n",
       "      <th>290199</th>\n",
       "      <td>7</td>\n",
       "      <td>127064</td>\n",
       "      <td>2012-10-24</td>\n",
       "      <td>Pens</td>\n",
       "      <td>1</td>\n",
       "      <td>1</td>\n",
       "    </tr>\n",
       "    <tr>\n",
       "      <th>290200</th>\n",
       "      <td>7</td>\n",
       "      <td>126893</td>\n",
       "      <td>2012-10-24</td>\n",
       "      <td>Perfume</td>\n",
       "      <td>1</td>\n",
       "      <td>1</td>\n",
       "    </tr>\n",
       "    <tr>\n",
       "      <th>290201</th>\n",
       "      <td>7</td>\n",
       "      <td>126839</td>\n",
       "      <td>2012-10-24</td>\n",
       "      <td>Pain Reliever</td>\n",
       "      <td>1</td>\n",
       "      <td>1</td>\n",
       "    </tr>\n",
       "    <tr>\n",
       "      <th>290202</th>\n",
       "      <td>7</td>\n",
       "      <td>126839</td>\n",
       "      <td>2012-10-24</td>\n",
       "      <td>Magazine</td>\n",
       "      <td>1</td>\n",
       "      <td>1</td>\n",
       "    </tr>\n",
       "    <tr>\n",
       "      <th>290203</th>\n",
       "      <td>7</td>\n",
       "      <td>126758</td>\n",
       "      <td>2012-10-24</td>\n",
       "      <td>Photo Processi</td>\n",
       "      <td>1</td>\n",
       "      <td>1</td>\n",
       "    </tr>\n",
       "    <tr>\n",
       "      <th>290204</th>\n",
       "      <td>7</td>\n",
       "      <td>126740</td>\n",
       "      <td>2012-10-24</td>\n",
       "      <td>Pens</td>\n",
       "      <td>1</td>\n",
       "      <td>1</td>\n",
       "    </tr>\n",
       "    <tr>\n",
       "      <th>290205</th>\n",
       "      <td>7</td>\n",
       "      <td>126740</td>\n",
       "      <td>2012-10-24</td>\n",
       "      <td>Candy Bar</td>\n",
       "      <td>1</td>\n",
       "      <td>1</td>\n",
       "    </tr>\n",
       "    <tr>\n",
       "      <th>290206</th>\n",
       "      <td>7</td>\n",
       "      <td>126704</td>\n",
       "      <td>2012-10-24</td>\n",
       "      <td>Pencils</td>\n",
       "      <td>1</td>\n",
       "      <td>1</td>\n",
       "    </tr>\n",
       "    <tr>\n",
       "      <th>290207</th>\n",
       "      <td>7</td>\n",
       "      <td>126440</td>\n",
       "      <td>2012-10-24</td>\n",
       "      <td>Pens</td>\n",
       "      <td>1</td>\n",
       "      <td>1</td>\n",
       "    </tr>\n",
       "    <tr>\n",
       "      <th>290208</th>\n",
       "      <td>7</td>\n",
       "      <td>126383</td>\n",
       "      <td>2012-10-24</td>\n",
       "      <td>Toothpaste</td>\n",
       "      <td>1</td>\n",
       "      <td>1</td>\n",
       "    </tr>\n",
       "    <tr>\n",
       "      <th>290209</th>\n",
       "      <td>7</td>\n",
       "      <td>126383</td>\n",
       "      <td>2012-10-24</td>\n",
       "      <td>Soap</td>\n",
       "      <td>1</td>\n",
       "      <td>1</td>\n",
       "    </tr>\n",
       "    <tr>\n",
       "      <th>290210</th>\n",
       "      <td>7</td>\n",
       "      <td>126383</td>\n",
       "      <td>2012-10-24</td>\n",
       "      <td>Candy Bar</td>\n",
       "      <td>1</td>\n",
       "      <td>1</td>\n",
       "    </tr>\n",
       "    <tr>\n",
       "      <th>290211</th>\n",
       "      <td>7</td>\n",
       "      <td>126167</td>\n",
       "      <td>2012-10-24</td>\n",
       "      <td>Toothbrush</td>\n",
       "      <td>1</td>\n",
       "      <td>1</td>\n",
       "    </tr>\n",
       "    <tr>\n",
       "      <th>290212</th>\n",
       "      <td>5</td>\n",
       "      <td>1201292</td>\n",
       "      <td>2012-10-29</td>\n",
       "      <td>Photo Processi</td>\n",
       "      <td>1</td>\n",
       "      <td>1</td>\n",
       "    </tr>\n",
       "  </tbody>\n",
       "</table>\n",
       "<p>290213 rows × 6 columns</p>\n",
       "</div>"
      ],
      "text/plain": [
       "        Location  Transaction_Id Transactin_Date    Product_Name  Quantity  \\\n",
       "0              1          816536      2012-10-27        Magazine         1   \n",
       "1              6           79610      2012-10-24      Toothpaste         1   \n",
       "2              7         1143932      2012-10-29  Greeting Cards         1   \n",
       "3              8          205484      2012-10-24   Pain Reliever         1   \n",
       "4              8           34322      2012-10-23       Candy Bar         1   \n",
       "5              6         1014407      2012-10-28             Bow         1   \n",
       "6             10          427835      2012-10-26        Magazine         1   \n",
       "7              6          362087      2012-10-25       Candy Bar         1   \n",
       "8              7          205490      2012-10-24             Bow         1   \n",
       "9              1         1068674      2012-10-28        Magazine         1   \n",
       "10             5          712436      2012-10-27        Magazine         1   \n",
       "11             8          205496      2012-10-24      Toothpaste         1   \n",
       "12             9         1140599      2012-10-29        Magazine         1   \n",
       "13             8          205484      2012-10-24         Perfume         1   \n",
       "14             6          450677      2012-10-26             Bow         1   \n",
       "15             5          451640      2012-10-26      Toothpaste         1   \n",
       "16             7          824726      2012-10-27             Bow         1   \n",
       "17             8          315824      2012-10-25        Magazine         1   \n",
       "18             8          400544      2012-10-26        Magazine         1   \n",
       "19             3           75389      2012-10-24      Toothpaste         1   \n",
       "20             1          164825      2012-10-24        Magazine         1   \n",
       "21            10           27950      2012-10-23        Magazine         1   \n",
       "22             8         1049675      2012-10-28       Candy Bar         1   \n",
       "23             4          189611      2012-10-24         Pencils         1   \n",
       "24             7          938843      2012-10-28        Magazine         1   \n",
       "25             4          743966      2012-10-27       Candy Bar         1   \n",
       "26             1          161075      2012-10-24        Magazine         1   \n",
       "27             1          144416      2012-10-24        Magazine         1   \n",
       "28             1          429884      2012-10-26        Magazine         1   \n",
       "29             4          339830      2012-10-25        Magazine         1   \n",
       "...          ...             ...             ...             ...       ...   \n",
       "290183         7          125954      2012-10-24      Toothpaste         1   \n",
       "290184         7          125963      2012-10-24      Toothpaste         1   \n",
       "290185         7          126134      2012-10-24        Magazine         1   \n",
       "290186         7          126155      2012-10-24            Pens         1   \n",
       "290187         7          127505      2012-10-24       Candy Bar         1   \n",
       "290188         7          127469      2012-10-24      Toothbrush         1   \n",
       "290189         7          127469      2012-10-24        Magazine         1   \n",
       "290190         7          127439      2012-10-24   Pain Reliever         1   \n",
       "290191         7          127361      2012-10-24         Shampoo         1   \n",
       "290192         7          127283      2012-10-24  Greeting Cards         1   \n",
       "290193         7          127178      2012-10-24      Toothbrush         1   \n",
       "290194         7          127163      2012-10-24         Pencils         1   \n",
       "290195         7          127118      2012-10-24         Pencils         1   \n",
       "290196         7          127118      2012-10-24  Greeting Cards         1   \n",
       "290197         7          127118      2012-10-24       Candy Bar         1   \n",
       "290198         7          127088      2012-10-24            Soap         1   \n",
       "290199         7          127064      2012-10-24            Pens         1   \n",
       "290200         7          126893      2012-10-24         Perfume         1   \n",
       "290201         7          126839      2012-10-24   Pain Reliever         1   \n",
       "290202         7          126839      2012-10-24        Magazine         1   \n",
       "290203         7          126758      2012-10-24  Photo Processi         1   \n",
       "290204         7          126740      2012-10-24            Pens         1   \n",
       "290205         7          126740      2012-10-24       Candy Bar         1   \n",
       "290206         7          126704      2012-10-24         Pencils         1   \n",
       "290207         7          126440      2012-10-24            Pens         1   \n",
       "290208         7          126383      2012-10-24      Toothpaste         1   \n",
       "290209         7          126383      2012-10-24            Soap         1   \n",
       "290210         7          126383      2012-10-24       Candy Bar         1   \n",
       "290211         7          126167      2012-10-24      Toothbrush         1   \n",
       "290212         5         1201292      2012-10-29  Photo Processi         1   \n",
       "\n",
       "        Frequency  \n",
       "0             135  \n",
       "1              96  \n",
       "2              95  \n",
       "3              83  \n",
       "4              78  \n",
       "5              75  \n",
       "6              73  \n",
       "7              72  \n",
       "8              72  \n",
       "9              71  \n",
       "10             66  \n",
       "11             66  \n",
       "12             63  \n",
       "13             57  \n",
       "14             56  \n",
       "15             54  \n",
       "16             53  \n",
       "17             53  \n",
       "18             50  \n",
       "19             49  \n",
       "20             49  \n",
       "21             49  \n",
       "22             48  \n",
       "23             48  \n",
       "24             47  \n",
       "25             46  \n",
       "26             45  \n",
       "27             45  \n",
       "28             45  \n",
       "29             42  \n",
       "...           ...  \n",
       "290183          1  \n",
       "290184          1  \n",
       "290185          1  \n",
       "290186          1  \n",
       "290187          1  \n",
       "290188          1  \n",
       "290189          1  \n",
       "290190          1  \n",
       "290191          1  \n",
       "290192          1  \n",
       "290193          1  \n",
       "290194          1  \n",
       "290195          1  \n",
       "290196          1  \n",
       "290197          1  \n",
       "290198          1  \n",
       "290199          1  \n",
       "290200          1  \n",
       "290201          1  \n",
       "290202          1  \n",
       "290203          1  \n",
       "290204          1  \n",
       "290205          1  \n",
       "290206          1  \n",
       "290207          1  \n",
       "290208          1  \n",
       "290209          1  \n",
       "290210          1  \n",
       "290211          1  \n",
       "290212          1  \n",
       "\n",
       "[290213 rows x 6 columns]"
      ]
     },
     "execution_count": 48,
     "metadata": {},
     "output_type": "execute_result"
    }
   ],
   "source": [
    "df.groupby(df.columns.tolist(),as_index=False).size().sort_values(ascending = False).reset_index().rename(columns={0: 'Frequency'})"
   ]
  },
  {
   "cell_type": "markdown",
   "metadata": {},
   "source": [
    "The 'Frequency' column in the result above indicates the number of duplicated transactions for each unique transaction in the dataset. Therefore, we will drop those duplicated transactions except for the first occurence."
   ]
  },
  {
   "cell_type": "code",
   "execution_count": 49,
   "metadata": {
    "collapsed": true
   },
   "outputs": [],
   "source": [
    "df = df.drop_duplicates(subset=None, keep='first', inplace=False)"
   ]
  },
  {
   "cell_type": "markdown",
   "metadata": {},
   "source": [
    "As were are looking to generate association rules from items purchased by each transaction, we need to group our Transaction_Id and then generate a list of all items purchased."
   ]
  },
  {
   "cell_type": "code",
   "execution_count": 50,
   "metadata": {
    "scrolled": true
   },
   "outputs": [
    {
     "name": "stdout",
     "output_type": "stream",
     "text": [
      "Transaction_Id\n",
      "12359                       [Candy Bar]\n",
      "12362                   [Pain Reliever]\n",
      "12365                      [Toothpaste]\n",
      "12371                             [Bow]\n",
      "12380                  [Greeting Cards]\n",
      "12383                   [Pain Reliever]\n",
      "12386                   [Pain Reliever]\n",
      "12392               [Shampoo, Magazine]\n",
      "12401    [Candy Bar, Pencils, Magazine]\n",
      "12404                       [Candy Bar]\n",
      "Name: Product_Name, dtype: object\n"
     ]
    }
   ],
   "source": [
    "# group by Transaction_Id, then list all items\n",
    "transactions = df.groupby(['Transaction_Id'])['Product_Name'].apply(list)\n",
    "\n",
    "print(transactions.head(10))"
   ]
  },
  {
   "cell_type": "markdown",
   "metadata": {},
   "source": [
    "### 2. What variables did you include in the analysis and what were their roles and measurement level set? Justify your choice.\n",
    "Association mining usually consists of two variables: a transaction ID and an item. Due to the main target which is to find out the associations between items purchased from the health and beauty aids department and the stationary department, the Product_Name should be chosen as the target variable and the Transaction_ID is chosen as ID. In summary, the variables included in the analysis as the below table.\n",
    "\n",
    "<table>\n",
    "    <tr>\n",
    "        <th>Variable Name</th>\n",
    "        <th>Role</th>\n",
    "        <th>Measurement Level</th>\n",
    "    </tr>\n",
    "    <tr>\n",
    "        <td>Product_Name</td>\n",
    "        <td>Target</td>\n",
    "        <td>Nominal</td>\n",
    "    </tr>\n",
    "    <tr>\n",
    "        <td>Transaction_Id</td>\n",
    "        <td>ID</td>\n",
    "        <td>Nominal</td>\n",
    "    </tr>\n",
    "</table>"
   ]
  },
  {
   "cell_type": "markdown",
   "metadata": {},
   "source": [
    "### 3. Conduct association mining and answer the following:\n",
    "#### a. What is the highest lift value for the resulting rules? Which rule has this value?"
   ]
  },
  {
   "cell_type": "markdown",
   "metadata": {},
   "source": [
    "Once the transactions table contains all items purchased in each transaction, we will run the apyori model with the pre-processed transactions and min_support of 0.02"
   ]
  },
  {
   "cell_type": "code",
   "execution_count": 51,
   "metadata": {},
   "outputs": [
    {
     "ename": "ModuleNotFoundError",
     "evalue": "No module named 'apyori'",
     "output_type": "error",
     "traceback": [
      "\u001b[0;31m---------------------------------------------------------------------------\u001b[0m",
      "\u001b[0;31mModuleNotFoundError\u001b[0m                       Traceback (most recent call last)",
      "\u001b[0;32m<ipython-input-51-72ad46e4b78e>\u001b[0m in \u001b[0;36m<module>\u001b[0;34m()\u001b[0m\n\u001b[0;32m----> 1\u001b[0;31m \u001b[0;32mfrom\u001b[0m \u001b[0mapyori\u001b[0m \u001b[0;32mimport\u001b[0m \u001b[0mapriori\u001b[0m\u001b[0;34m\u001b[0m\u001b[0m\n\u001b[0m\u001b[1;32m      2\u001b[0m \u001b[0;34m\u001b[0m\u001b[0m\n\u001b[1;32m      3\u001b[0m \u001b[0;31m# type cast the transactions from pandas into normal list format and run apriori\u001b[0m\u001b[0;34m\u001b[0m\u001b[0;34m\u001b[0m\u001b[0m\n\u001b[1;32m      4\u001b[0m \u001b[0mtransaction_list\u001b[0m \u001b[0;34m=\u001b[0m \u001b[0mlist\u001b[0m\u001b[0;34m(\u001b[0m\u001b[0mtransactions\u001b[0m\u001b[0;34m)\u001b[0m\u001b[0;34m\u001b[0m\u001b[0m\n\u001b[1;32m      5\u001b[0m \u001b[0mresults\u001b[0m \u001b[0;34m=\u001b[0m \u001b[0mlist\u001b[0m\u001b[0;34m(\u001b[0m\u001b[0mapriori\u001b[0m\u001b[0;34m(\u001b[0m\u001b[0mtransaction_list\u001b[0m\u001b[0;34m,\u001b[0m \u001b[0mmin_support\u001b[0m\u001b[0;34m=\u001b[0m\u001b[0;36m0.02\u001b[0m\u001b[0;34m)\u001b[0m\u001b[0;34m)\u001b[0m\u001b[0;34m\u001b[0m\u001b[0m\n",
      "\u001b[0;31mModuleNotFoundError\u001b[0m: No module named 'apyori'"
     ]
    }
   ],
   "source": [
    "from apyori import apriori\n",
    "\n",
    "# type cast the transactions from pandas into normal list format and run apriori\n",
    "transaction_list = list(transactions)\n",
    "results = list(apriori(transaction_list, min_support=0.02))\n",
    "\n",
    "# print first 5 rules\n",
    "print(results[:5])"
   ]
  },
  {
   "cell_type": "code",
   "execution_count": null,
   "metadata": {
    "collapsed": true
   },
   "outputs": [],
   "source": [
    "def convert_apriori_results_to_pandas_df(results):\n",
    "    rules = []\n",
    "    \n",
    "    for rule_set in results:\n",
    "        for rule in rule_set.ordered_statistics:\n",
    "            # items_base = left side of rules, items_add = right side\n",
    "            # support, confidence and lift for respective rules\n",
    "            rules.append([','.join(rule.items_base), ','.join(rule.items_add),\n",
    "                         rule_set.support, rule.confidence, rule.lift]) \n",
    "    \n",
    "    # typecast it to pandas df\n",
    "    return pd.DataFrame(rules, columns=['Left_side', 'Right_side', 'Support', 'Confidence', 'Lift']) \n",
    "\n",
    "result_df = convert_apriori_results_to_pandas_df(results)\n",
    "\n",
    "print(result_df.head(20))"
   ]
  },
  {
   "cell_type": "markdown",
   "metadata": {},
   "source": [
    "In order to find out the highest lift value for the resulting rules, we will sort the rules by Lift using the code below:"
   ]
  },
  {
   "cell_type": "code",
   "execution_count": null,
   "metadata": {
    "collapsed": true
   },
   "outputs": [],
   "source": [
    "# sort all acquired rules descending by lift# sort a \n",
    "result_df = result_df.sort_values(by='Lift', ascending=False)\n",
    "print(result_df.head(10))"
   ]
  },
  {
   "cell_type": "markdown",
   "metadata": {},
   "source": [
    "From the result above, the highest lift value is 3.60\n",
    "There are two rules having this value: Perfume -> Toothbrush and Toothbrush -> Perfume"
   ]
  },
  {
   "cell_type": "markdown",
   "metadata": {},
   "source": [
    "#### b. What is the highest confidence value for the resulting rules? Which rule has this value?"
   ]
  },
  {
   "cell_type": "code",
   "execution_count": null,
   "metadata": {
    "collapsed": true
   },
   "outputs": [],
   "source": [
    "In order to find out the highest confidence value for the resulting rules, we will sort the rules by Confidence using the code below:"
   ]
  },
  {
   "cell_type": "code",
   "execution_count": null,
   "metadata": {
    "collapsed": true
   },
   "outputs": [],
   "source": [
    "# sort all acquired rules descending by Confidence# sort a \n",
    "result_df = result_df.sort_values(by='Confidence', ascending=False)\n",
    "print(result_df.head(10))"
   ]
  },
  {
   "cell_type": "markdown",
   "metadata": {},
   "source": [
    "From the result above, the highest confidence value is 32.39%.\n",
    "The rule has this value is Magazie & Greeding Cards -> Candy Bar  "
   ]
  },
  {
   "cell_type": "markdown",
   "metadata": {},
   "source": [
    "#### c. Plot the confidence, lift, support of the resulting rules? Interpret them to discuss the rule-set obtained"
   ]
  },
  {
   "cell_type": "markdown",
   "metadata": {},
   "source": [
    "### 4. The store is particularly interested in products that individuals purchase when they buy “Pens”.\n",
    "#### a. How many rules are in the subset?"
   ]
  },
  {
   "cell_type": "markdown",
   "metadata": {},
   "source": [
    "#### b. Based on the rules, what are the other products these individuals are most likely to purchase?"
   ]
  },
  {
   "cell_type": "markdown",
   "metadata": {},
   "source": [
    "### 5. How the outcome of this study can be used by decision makers?"
   ]
  },
  {
   "cell_type": "markdown",
   "metadata": {},
   "source": [
    "---\n",
    "## Part 4: Web Mining<a name=\"web\"></a>\n",
    "\n",
    "\n",
    "\n"
   ]
  },
  {
   "cell_type": "markdown",
   "metadata": {},
   "source": [
    "---\n",
    "## Part 3: Text Mining<a name=\"text\"></a>\n",
    "\n",
    "\n",
    "\n"
   ]
  },
  {
   "cell_type": "markdown",
   "metadata": {},
   "source": [
    "### 1. What variables did you include in the analysis and what were their roles and measurement level set? Justify your choice."
   ]
  },
  {
   "cell_type": "markdown",
   "metadata": {},
   "source": [
    "The selected column is the TEXT column, as this column contains the text data from which information will be extracted. All other columns are rejected.\n",
    "\n",
    "The LANGUANGE, OMITTED, TRUNCATED, and EXTENSION columns are unary, and provide no meaningful data. Similarly, the URI, NAME, and FILTERED columns are incremental values that also provide no meaningful data. Finally, the columns CREATED, ACCESSED, and MODIFIED, appear to be date based values. Modified is binary, and the other columns only have thirty five unique values."
   ]
  },
  {
   "cell_type": "code",
   "execution_count": 40,
   "metadata": {},
   "outputs": [
    {
     "name": "stdout",
     "output_type": "stream",
     "text": [
      "CREATED - Unique: 35\n",
      "ACCESSED - Unique: 35\n",
      "MODIFIED - Unique: 2\n"
     ]
    }
   ],
   "source": [
    "import pandas as pd\n",
    "\n",
    "tf = pd.read_csv(\"Casestudy2-Data-Py/bbc.csv\")\n",
    "\n",
    "checkCols = [\"CREATED\", \"ACCESSED\", \"MODIFIED\"]\n",
    "\n",
    "for col in checkCols:\n",
    "    print(col, \"- Unique:\", len(tf[col].unique()))"
   ]
  },
  {
   "cell_type": "markdown",
   "metadata": {},
   "source": [
    "### 2. Can you identify data quality issues in order to perform text mining?"
   ]
  },
  {
   "cell_type": "markdown",
   "metadata": {},
   "source": [
    "In order to prepare the text for mining, it was first stripped of punctuation and analytically useless stopwords obtained from nltk StopWords. Secondly, the text is lemmatised using the nltk WordNet dictionary, in order to reduce words to their base format. Finally, the text is vectorised using the sklearn tf idf vectoriser, so that it can be used for clustering."
   ]
  },
  {
   "cell_type": "code",
   "execution_count": 41,
   "metadata": {
    "collapsed": true
   },
   "outputs": [],
   "source": [
    "import string\n",
    "\n",
    "from nltk.corpus import stopwords as sw\n",
    "from nltk.corpus import wordnet as wn\n",
    "from nltk import wordpunct_tokenize\n",
    "from nltk import WordNetLemmatizer\n",
    "from nltk import sent_tokenize\n",
    "from nltk import pos_tag\n",
    "\n",
    "# initialise WordNet lemmatizer and punctuation filter\n",
    "lemmatizer = WordNetLemmatizer()\n",
    "punct = set(string.punctuation)\n",
    "\n",
    "stopwords = set(sw.words('english'))\n",
    "stopwords.update('�')\n",
    "textColumn = 'TEXT'\n",
    "clusters = 7\n",
    "rs = 42\n",
    "docTotal = len(tf[textColumn]) #store total documents for calculating document frequency percentages"
   ]
  },
  {
   "cell_type": "code",
   "execution_count": 42,
   "metadata": {},
   "outputs": [
    {
     "name": "stdout",
     "output_type": "stream",
     "text": [
      "Unique tokens: 36340\n"
     ]
    }
   ],
   "source": [
    "def lemmatize(token, tag):\n",
    "    tag = {\n",
    "        'N': wn.NOUN,\n",
    "        'V': wn.VERB,\n",
    "        'R': wn.ADV,\n",
    "        'J': wn.ADJ\n",
    "    }.get(tag[0], wn.NOUN)\n",
    "\n",
    "    return lemmatizer.lemmatize(token, tag)\n",
    "\n",
    "def cab_tokenizer(document):\n",
    "    # initialize token list\n",
    "    tokens = []\n",
    "    \n",
    "    # split the document into sentences\n",
    "    for sent in sent_tokenize(document):\n",
    "        # split the document into tokens and then create part of speech tag for each token\n",
    "        for token, tag in pos_tag(wordpunct_tokenize(sent)):\n",
    "            # preprocess and remove unnecessary characters\n",
    "            token = token.lower()\n",
    "            token = token.strip()\n",
    "            token = token.strip('_')\n",
    "            token = token.strip('*')\n",
    "\n",
    "            # If stopword, ignore token and continue\n",
    "            if token in stopwords:\n",
    "                continue\n",
    "\n",
    "            # If punctuation, ignore token and continue\n",
    "            if all(char in punct for char in token):\n",
    "                continue\n",
    "\n",
    "            # Lemmatize the token and add back to the tokens list\n",
    "            lemma = lemmatize(token, tag)\n",
    "            tokens.append(lemma)\n",
    "    \n",
    "    return tokens\n",
    "\n",
    "from sklearn.feature_extraction.text import TfidfVectorizer\n",
    "\n",
    "# tf idf vectoriser\n",
    "tfidf_vec = TfidfVectorizer(strip_accents = 'unicode', tokenizer=cab_tokenizer, ngram_range=(1,2))\n",
    "X = tfidf_vec.fit_transform(tf[textColumn])\n",
    "weights = tfidf_vec.idf_\n",
    "\n",
    "# see the number of unique tokens produced by the vectorizer. Lots of them...\n",
    "print(\"Unique tokens:\", len(tfidf_vec.get_feature_names()))"
   ]
  },
  {
   "cell_type": "markdown",
   "metadata": {},
   "source": [
    "Without document and term frequency filtering, there are 36340 unique tokens found by the tf idf vectorizer. This is far too many to generate meaningful clusters."
   ]
  },
  {
   "cell_type": "code",
   "execution_count": 43,
   "metadata": {
    "collapsed": true
   },
   "outputs": [],
   "source": [
    "from sklearn.cluster import KMeans\n",
    "\n",
    "# K means clustering using the term vector\n",
    "kmeans = KMeans(n_clusters=clusters, random_state=rs).fit(X)"
   ]
  },
  {
   "cell_type": "code",
   "execution_count": 44,
   "metadata": {},
   "outputs": [
    {
     "name": "stdout",
     "output_type": "stream",
     "text": [
      "Top terms for cluster 0: indoor, world, record, olympic, bekele, idowu, champion, \n",
      "Top terms for cluster 1: cricket, play, say, pakistan, club, souness, want, \n",
      "Top terms for cluster 2: ball, wicket, run, strauss, australia, inning, boundary, \n",
      "Top terms for cluster 3: england, ireland, wale, nation, rugby, six nation, six, \n",
      "Top terms for cluster 4: 6, open, hewitt, win, 7, final, set, \n",
      "Top terms for cluster 5: say, cup, roddick, player, play, game, spain, \n",
      "Top terms for cluster 6: athletics, athens, drug, ban, athlete, year, marathon, \n"
     ]
    }
   ],
   "source": [
    "# function to visualise text cluster. Useful for the assignment too :)\n",
    "def visualise_text_cluster(n_clusters, cluster_centers, terms, num_word = 7):\n",
    "    # -- Params --\n",
    "    # cluster_centers: cluster centers of fitted/trained KMeans/other centroid-based clustering\n",
    "    # terms: terms used for clustering\n",
    "    # num_word: number of terms to show per cluster. Change as you please.\n",
    "    \n",
    "    # find features/terms closest to centroids\n",
    "    ordered_centroids = cluster_centers.argsort()[:, ::-1]\n",
    "    \n",
    "    for cluster in range(n_clusters):\n",
    "        print(\"Top terms for cluster {}:\".format(cluster), end=\" \")\n",
    "        for term_idx in ordered_centroids[cluster, :num_word]:\n",
    "            print(terms[term_idx], end=', ')\n",
    "        print()\n",
    "        \n",
    "# call it\n",
    "visualise_text_cluster(kmeans.n_clusters, kmeans.cluster_centers_, tfidf_vec.get_feature_names())"
   ]
  },
  {
   "cell_type": "markdown",
   "metadata": {},
   "source": [
    "As stated above, the clusters generated with unfiltered terms are damaged by high frequency, low value terms, such as terms like 'say', 'play', and 'ball'. These terms are vague and do not allow for meaningful conclusions to be drawn from the clusters. As such, the terms must be filtered using term/document frequency."
   ]
  },
  {
   "cell_type": "markdown",
   "metadata": {},
   "source": [
    "### 3. Based on the ZIPF plot, list the top 10 terms that will be least useful for clustering purpose."
   ]
  },
  {
   "cell_type": "code",
   "execution_count": 45,
   "metadata": {},
   "outputs": [],
   "source": [
    "import seaborn as sns\n",
    "import matplotlib.pyplot as plt\n",
    "\n",
    "# creating tf-idf terms - a bit slow, do it occasionaly\n",
    "def calculate_tf_idf_terms(document_col):\n",
    "    # Param - document_col: collection of raw document text that you want to analyse\n",
    "    from sklearn.feature_extraction.text import CountVectorizer\n",
    "\n",
    "    # use count vectorizer to find TF and DF of each term\n",
    "    count_vec = CountVectorizer(tokenizer=cab_tokenizer, ngram_range=(1,2))\n",
    "    X_count = count_vec.fit_transform(tf[textColumn])\n",
    "    \n",
    "    # create list of terms and their tf and df\n",
    "    terms = [{'term': t, 'idx': count_vec.vocabulary_[t],\n",
    "              'tf': X_count[:, count_vec.vocabulary_[t]].sum(),\n",
    "              'df': X_count[:, count_vec.vocabulary_[t]].count_nonzero(),\n",
    "              'weights': weights[i]}\n",
    "             for i, t in enumerate(count_vec.vocabulary_)]\n",
    "    \n",
    "    return terms\n",
    "    \n",
    "terms = calculate_tf_idf_terms(tf[textColumn])"
   ]
  },
  {
   "cell_type": "code",
   "execution_count": 46,
   "metadata": {},
   "outputs": [
    {
     "data": {
      "image/png": "[encoded data removed]",
      "text/plain": [
       "<matplotlib.figure.Figure at 0x1185cb240>"
      ]
     },
     "metadata": {},
     "output_type": "display_data"
    },
    {
     "name": "stdout",
     "output_type": "stream",
     "text": [
      "1)\tTerm: say \tFrequency: 447 \tWeight: 5.6101577275\n",
      "2)\tTerm: win \tFrequency: 246 \tWeight: 5.6101577275\n",
      "3)\tTerm: one \tFrequency: 204 \tWeight: 5.6101577275\n",
      "4)\tTerm: go \tFrequency: 203 \tWeight: 5.6101577275\n",
      "5)\tTerm: two \tFrequency: 197 \tWeight: 5.6101577275\n",
      "6)\tTerm: time \tFrequency: 189 \tWeight: 5.6101577275\n",
      "7)\tTerm: first \tFrequency: 185 \tWeight: 5.6101577275\n",
      "8)\tTerm: get \tFrequency: 175 \tWeight: 5.6101577275\n",
      "9)\tTerm: player \tFrequency: 164 \tWeight: 5.6101577275\n",
      "10)\tTerm: make \tFrequency: 163 \tWeight: 5.6101577275\n"
     ]
    }
   ],
   "source": [
    "# visualisation of ZIPF law\n",
    "def visualise_zipf(terms, itr_step = 50):\n",
    "    from scipy.spatial.distance import euclidean\n",
    "    from math import sqrt\n",
    "    \n",
    "    # --- Param ---\n",
    "    # terms: collection of terms dictionary from calculate_tf_idf_terms function\n",
    "    # itr_step: used to control how many terms that you want to plot. Num of terms to plot = N terms / itr_step\n",
    "    \n",
    "    # sort terms by its frequency\n",
    "    terms.sort(key=lambda x: (x['tf'], x['df']), reverse=True)\n",
    "    \n",
    "    # select a few of the terms for plotting purpose\n",
    "    sel_terms = [terms[i] for i in range(0, len(terms), itr_step)]\n",
    "    labels = [term['term'] for term in sel_terms]\n",
    "    \n",
    "    # plot term frequency ranking vs its DF\n",
    "    plt.plot(range(len(sel_terms)), [x['df'] for x in sel_terms])\n",
    "    plt.xlabel('Term frequency ranking')\n",
    "    plt.ylabel('Document frequency')\n",
    "    \n",
    "    max_x = len(sel_terms)\n",
    "    max_y = max([x['df'] for x in sel_terms])\n",
    "    \n",
    "    # annotate the points\n",
    "    prev_x, prev_y = 0, 0\n",
    "    for label, x, y in zip(labels,range(len(sel_terms)), [x['df'] for x in sel_terms]):\n",
    "        # calculate the relative distance between labels to increase visibility\n",
    "        x_dist = (abs(x - prev_x) / float(max_x)) ** 2\n",
    "        y_dist = (abs(y - prev_y) / float(max_y)) ** 2\n",
    "        scaled_dist = sqrt(x_dist + y_dist)\n",
    "        \n",
    "        if (scaled_dist > 0.1):\n",
    "            plt.text(x+2, y+2, label, {'ha': 'left', 'va': 'bottom'}, rotation=30)\n",
    "            prev_x, prev_y = x, y\n",
    "    \n",
    "    plt.show()\n",
    "    \n",
    "    return terms\n",
    "\n",
    "#Store terms ordered by term frequency, document frequency\n",
    "orderedTerms = visualise_zipf(terms).copy()\n",
    "\n",
    "#Reorder terms by weights\n",
    "terms.sort(key=lambda x: (x['weights']), reverse=True)\n",
    "for i, term in enumerate(terms[0:10]):\n",
    "    print(str(i + 1) + \")\\tTerm:\", term['term'], \"\\tFrequency:\", term['tf'], \"\\tWeight:\", term['weights'])"
   ]
  },
  {
   "cell_type": "markdown",
   "metadata": {},
   "source": [
    "Using ZIPF law, the least useful terms can be calculated. As visualised above, the Top 10 least useful terms by weight are:\n",
    "\n",
    "1. say\n",
    "2. win\n",
    "3. one\n",
    "4. go\n",
    "5. two\n",
    "6. time\n",
    "7. first\n",
    "8. get\n",
    "9. player\n",
    "10. make\n",
    "\n",
    "These terms have the highest tf-idf weight values, and thus provide no meaningful value to the clustering process."
   ]
  },
  {
   "cell_type": "markdown",
   "metadata": {},
   "source": [
    "### 4. Did you disregard any frequent terms? Justify their selection."
   ]
  },
  {
   "cell_type": "markdown",
   "metadata": {},
   "source": [
    "Examining the top 25 most frequent terms from the dataset, it can be observed that there is a large amount of vague sports terminology. All of the top ten least useful terms can be observed in the top 25 most frequent. The most frequent term, 'say', also provides no value."
   ]
  },
  {
   "cell_type": "code",
   "execution_count": 47,
   "metadata": {},
   "outputs": [
    {
     "name": "stdout",
     "output_type": "stream",
     "text": [
      "1)\tTerm: say \tDocument Frequency: 84.0 %\tTerm Frequency 447\n",
      "2)\tTerm: year \tDocument Frequency: 67.0 %\tTerm Frequency 308\n",
      "3)\tTerm: game \tDocument Frequency: 53.0 %\tTerm Frequency 249\n",
      "4)\tTerm: win \tDocument Frequency: 51.0 %\tTerm Frequency 246\n",
      "5)\tTerm: play \tDocument Frequency: 52.0 %\tTerm Frequency 240\n",
      "6)\tTerm: one \tDocument Frequency: 52.0 %\tTerm Frequency 204\n",
      "7)\tTerm: go \tDocument Frequency: 56.00000000000001 %\tTerm Frequency 203\n",
      "8)\tTerm: take \tDocument Frequency: 56.00000000000001 %\tTerm Frequency 202\n",
      "9)\tTerm: england \tDocument Frequency: 26.0 %\tTerm Frequency 199\n",
      "10)\tTerm: two \tDocument Frequency: 51.5 %\tTerm Frequency 197\n",
      "11)\tTerm: time \tDocument Frequency: 57.49999999999999 %\tTerm Frequency 189\n",
      "12)\tTerm: first \tDocument Frequency: 44.5 %\tTerm Frequency 185\n",
      "13)\tTerm: world \tDocument Frequency: 46.0 %\tTerm Frequency 180\n",
      "14)\tTerm: get \tDocument Frequency: 43.5 %\tTerm Frequency 175\n",
      "15)\tTerm: player \tDocument Frequency: 41.0 %\tTerm Frequency 164\n",
      "16)\tTerm: make \tDocument Frequency: 54.0 %\tTerm Frequency 163\n",
      "17)\tTerm: would \tDocument Frequency: 46.5 %\tTerm Frequency 156\n",
      "18)\tTerm: back \tDocument Frequency: 42.5 %\tTerm Frequency 149\n",
      "19)\tTerm: come \tDocument Frequency: 42.5 %\tTerm Frequency 146\n",
      "20)\tTerm: team \tDocument Frequency: 37.0 %\tTerm Frequency 144\n",
      "21)\tTerm: last \tDocument Frequency: 47.0 %\tTerm Frequency 143\n",
      "22)\tTerm: match \tDocument Frequency: 33.5 %\tTerm Frequency 133\n",
      "23)\tTerm: second \tDocument Frequency: 39.0 %\tTerm Frequency 132\n",
      "24)\tTerm: set \tDocument Frequency: 33.5 %\tTerm Frequency 131\n",
      "25)\tTerm: 6 \tDocument Frequency: 18.5 %\tTerm Frequency 130\n"
     ]
    }
   ],
   "source": [
    "#An array of zeroes equal to the number of documents, to count document frequencies\n",
    "dfCount = [0] * docTotal\n",
    "\n",
    "for i, term in enumerate(orderedTerms):\n",
    "    if i < 25:\n",
    "        print(str(i + 1) + \")\\tTerm:\", term['term'], \"\\tDocument Frequency:\", (term['df'] / docTotal * 100), \"%\\tTerm Frequency\", term['tf'])\n",
    "    dfCount[term['df'] - 1] += 1"
   ]
  },
  {
   "cell_type": "markdown",
   "metadata": {},
   "source": [
    "Most of the high frequency terms occur within 40-50% of the documents, except for the 9th term, 'england'. This term can be useful for clustering, and may provide useful information. All terms above 40% document frequency (appearing in over 80 documents), will be disregarded through filtering."
   ]
  },
  {
   "cell_type": "code",
   "execution_count": 48,
   "metadata": {},
   "outputs": [
    {
     "name": "stdout",
     "output_type": "stream",
     "text": [
      "Unique tokens for 40%: 36320\n",
      "Top terms for cluster 0: test, ball, wicket, pakistan, cricket, australia, day, \n",
      "Top terms for cluster 1: williams, wale, jones, half, scotland, italy, minute, \n",
      "Top terms for cluster 2: england, ireland, referee, wilkinson, injury, rugby, nation, \n",
      "Top terms for cluster 3: race, athens, athletics, marathon, cross country, chepkemei, paula, \n",
      "Top terms for cluster 4: open, 6, roddick, australian, australian open, hewitt, 7, \n",
      "Top terms for cluster 5: club, season, cup, team, manager, rugby, farrell, \n",
      "Top terms for cluster 6: liverpool, real, benitez, chelsea, madrid, want, club, \n"
     ]
    }
   ],
   "source": [
    "# tf idf vectoriser\n",
    "tfidf_vec = TfidfVectorizer(strip_accents = 'unicode', tokenizer=cab_tokenizer, ngram_range=(1,2), min_df=1, max_df=0.4)\n",
    "X = tfidf_vec.fit_transform(tf[textColumn])\n",
    "\n",
    "# see the number of unique tokens produced by the vectorizer. Lots of them...\n",
    "tokenCount = len(tfidf_vec.get_feature_names())\n",
    "print(\"Unique tokens for 40%:\", tokenCount)\n",
    "\n",
    "kmeans = KMeans(n_clusters=clusters, random_state=rs).fit(X)\n",
    "visualise_text_cluster(kmeans.n_clusters, kmeans.cluster_centers_, tfidf_vec.get_feature_names())"
   ]
  },
  {
   "cell_type": "markdown",
   "metadata": {},
   "source": [
    "Limiting the maximum document frequency to 40% removes 20 terms, which is terms 1-21, excluding 'england'."
   ]
  },
  {
   "cell_type": "markdown",
   "metadata": {},
   "source": [
    "### 5. Justify the term weighting option selected"
   ]
  },
  {
   "cell_type": "markdown",
   "metadata": {},
   "source": [
    "The maximum document frequency is set to 40% to remove vague, high frequency terms, as explained above."
   ]
  },
  {
   "cell_type": "code",
   "execution_count": 49,
   "metadata": {
    "scrolled": false
   },
   "outputs": [
    {
     "data": {
      "image/png": "[encoded data removed]",
      "text/plain": [
       "<matplotlib.figure.Figure at 0x110509e80>"
      ]
     },
     "metadata": {},
     "output_type": "display_data"
    },
    {
     "name": "stdout",
     "output_type": "stream",
     "text": [
      "Document Frequency 1 - 5: 35101 Remainder: 1219 Elements: [29435, 3772, 1058, 523, 313]\n"
     ]
    }
   ],
   "source": [
    "#Show distribution of document frequencies.\n",
    "plt.bar(range(1, len(dfCount) + 1), dfCount)\n",
    "plt.show()\n",
    "\n",
    "print(\"Document Frequency 1 - 5:\", sum(dfCount[0:5]), \"Remainder:\", tokenCount - sum(dfCount[0:5]),  \"Elements:\", dfCount[0:5])"
   ]
  },
  {
   "cell_type": "markdown",
   "metadata": {},
   "source": [
    "There are 35101 tokens that only appear in 5 or less documents, and over 29435 only appear in 1. Due to this large portion, filtering a higher minimum document frequency may remove too many terms."
   ]
  },
  {
   "cell_type": "code",
   "execution_count": 50,
   "metadata": {},
   "outputs": [
    {
     "name": "stdout",
     "output_type": "stream",
     "text": [
      "Unique tokens for min_df = 2: 6885\n",
      "Top terms for cluster 0: england, cricket, ball, south, pakistan, test, day, \n",
      "Top terms for cluster 1: 6, roddick, 7, 3, set, moya, nadal, \n",
      "Top terms for cluster 2: open, australian, grand slam, slam, wale, australian open, grand, \n",
      "Top terms for cluster 3: club, manager, want, beckham, real, league, deal, \n",
      "Top terms for cluster 4: race, indoor, olympic, marathon, athens, record, cross country, \n",
      "Top terms for cluster 5: drug, ban, greek, iaaf, test, kenteris, athlete, \n",
      "Top terms for cluster 6: liverpool, chelsea, arsenal, benitez, ferguson, gerrard, shot, \n",
      "\n",
      "Unique tokens for min_df = 3: 3113\n",
      "Top terms for cluster 0: arsenal, chelsea, henry, ferguson, wenger, beckham, team, \n",
      "Top terms for cluster 1: race, athletics, athens, olympic, indoor, medal, record, \n",
      "Top terms for cluster 2: england, wale, ireland, nation, six nation, six, scotland, \n",
      "Top terms for cluster 3: 6, roddick, cup, 7, spain, moya, davis cup, \n",
      "Top terms for cluster 4: cricket, england, pakistan, ball, test, day, series, \n",
      "Top terms for cluster 5: open, australian, australian open, hewitt, federer, grand slam, slam, \n",
      "Top terms for cluster 6: club, want, liverpool, deal, souness, manager, bath, \n",
      "\n",
      "Unique tokens for min_df = 4: 2055\n",
      "Top terms for cluster 0: cricket, pakistan, england, test, australia, ball, day, \n",
      "Top terms for cluster 1: club, deal, souness, season, want, agree, manager, \n",
      "Top terms for cluster 2: indoor, olympic, medal, record, gold, jump, birmingham, \n",
      "Top terms for cluster 3: open, 6, australian, roddick, australian open, 7, hewitt, \n",
      "Top terms for cluster 4: marathon, athens, cross country, ban, chepkemei, paula, athletics, \n",
      "Top terms for cluster 5: arsenal, chelsea, henry, liverpool, want, ferguson, real, \n",
      "Top terms for cluster 6: england, ireland, wale, nation, rugby, six nation, scotland, \n",
      "\n",
      "Unique tokens for min_df = 5: 1532\n",
      "Top terms for cluster 0: england, cricket, ireland, ball, six, wale, south, \n",
      "Top terms for cluster 1: 6, 7, roddick, moya, match, 7 6, nadal, \n",
      "Top terms for cluster 2: open, australian, australian open, tennis, grand slam, roddick, federer, \n",
      "Top terms for cluster 3: chelsea, arsenal, ferguson, unite, manchester, league, real, \n",
      "Top terms for cluster 4: indoor, record, olympic, european, jump, birmingham, world record, \n",
      "Top terms for cluster 5: athletics, athens, drug, race, ban, marathon, cross country, \n",
      "Top terms for cluster 6: club, liverpool, manager, want, newcastle, season, rugby, \n"
     ]
    }
   ],
   "source": [
    "# tf idf vectoriser\n",
    "tfidf_vec = TfidfVectorizer(strip_accents = 'unicode', tokenizer=cab_tokenizer, ngram_range=(1,2), min_df=2, max_df=0.4)\n",
    "X = tfidf_vec.fit_transform(tf[textColumn])\n",
    "\n",
    "# see the number of unique tokens produced by the vectorizer. Lots of them...\n",
    "tokenCount = len(tfidf_vec.get_feature_names())\n",
    "print(\"Unique tokens for min_df = 2:\", tokenCount)\n",
    "\n",
    "kmeans = KMeans(n_clusters=clusters, random_state=rs).fit(X)\n",
    "visualise_text_cluster(kmeans.n_clusters, kmeans.cluster_centers_, tfidf_vec.get_feature_names())\n",
    "\n",
    "print()\n",
    "# tf idf vectoriser\n",
    "tfidf_vec = TfidfVectorizer(strip_accents = 'unicode', tokenizer=cab_tokenizer, ngram_range=(1,2), min_df=3, max_df=0.4)\n",
    "X = tfidf_vec.fit_transform(tf[textColumn])\n",
    "\n",
    "# see the number of unique tokens produced by the vectorizer. Lots of them...\n",
    "tokenCount = len(tfidf_vec.get_feature_names())\n",
    "print(\"Unique tokens for min_df = 3:\", tokenCount)\n",
    "\n",
    "kmeans = KMeans(n_clusters=clusters, random_state=rs).fit(X)\n",
    "visualise_text_cluster(kmeans.n_clusters, kmeans.cluster_centers_, tfidf_vec.get_feature_names())\n",
    "\n",
    "print()\n",
    "# tf idf vectoriser\n",
    "tfidf_vec = TfidfVectorizer(strip_accents = 'unicode', tokenizer=cab_tokenizer, ngram_range=(1,2), min_df=4, max_df=0.4)\n",
    "X = tfidf_vec.fit_transform(tf[textColumn])\n",
    "\n",
    "# see the number of unique tokens produced by the vectorizer. Lots of them...\n",
    "tokenCount = len(tfidf_vec.get_feature_names())\n",
    "print(\"Unique tokens for min_df = 4:\", tokenCount)\n",
    "\n",
    "kmeans = KMeans(n_clusters=clusters, random_state=rs).fit(X)\n",
    "visualise_text_cluster(kmeans.n_clusters, kmeans.cluster_centers_, tfidf_vec.get_feature_names())\n",
    "\n",
    "print()\n",
    "# tf idf vectoriser\n",
    "tfidf_vec = TfidfVectorizer(strip_accents = 'unicode', tokenizer=cab_tokenizer, ngram_range=(1,2), min_df=5, max_df=0.4)\n",
    "X = tfidf_vec.fit_transform(tf[textColumn])\n",
    "\n",
    "# see the number of unique tokens produced by the vectorizer. Lots of them...\n",
    "tokenCount = len(tfidf_vec.get_feature_names())\n",
    "print(\"Unique tokens for min_df = 5:\", tokenCount)\n",
    "\n",
    "kmeans = KMeans(n_clusters=clusters, random_state=rs).fit(X)\n",
    "visualise_text_cluster(kmeans.n_clusters, kmeans.cluster_centers_, tfidf_vec.get_feature_names())"
   ]
  },
  {
   "cell_type": "markdown",
   "metadata": {},
   "source": [
    "Examining the clusters generated at different min_df levels, setting the minimum document frequency to 4 produces the best results. Meaningful clusters are generated such as the cricket tests for cluster 0, and athletics bans for cluster 4."
   ]
  },
  {
   "cell_type": "markdown",
   "metadata": {},
   "source": [
    "### 6. What is the number of input features available to execute clustering?  (For information: Note how the original text data is now converted into a feature set that can be mined for knowledge discovery?)"
   ]
  },
  {
   "cell_type": "markdown",
   "metadata": {},
   "source": [
    "To reduce the tfidf frequency matrix, Singular Value Decomposition was used. By setting the number of components to 100, a significantly smaller matrix is created."
   ]
  },
  {
   "cell_type": "code",
   "execution_count": 51,
   "metadata": {},
   "outputs": [
    {
     "name": "stdout",
     "output_type": "stream",
     "text": [
      "Top terms in component #0 england, open, 6, club, team, \n",
      "Top terms in component #1 6, open, 7, roddick, australian, \n",
      "Top terms in component #2 england, ball, wicket, south, australia, \n",
      "Top terms in component #3 test, athens, ban, athletics, drug, \n",
      "Top terms in component #4 ireland, wale, nation, six nation, scotland, \n",
      "Top terms in component #5 6, indoor, arsenal, 7, record, \n",
      "Top terms in component #6 drug, greek, kenteris, iaaf, ban, \n",
      "Top terms in component #7 roddick, moya, cup, davis, davis cup, \n",
      "Top terms in component #8 chepkemei, cross country, marathon, radcliffe, country, \n",
      "Top terms in component #9 liverpool, pakistan, 6, shane, club, \n"
     ]
    }
   ],
   "source": [
    "from sklearn.decomposition import TruncatedSVD\n",
    "\n",
    "svd = TruncatedSVD(n_components=100, random_state=rs)\n",
    "X_trans = svd.fit_transform(X)\n",
    "\n",
    "# sort the components by largest weighted word\n",
    "sorted_comp = svd.components_.argsort()[:, ::-1]\n",
    "terms = tfidf_vec.get_feature_names()\n",
    "\n",
    "# visualise word - concept/component relationships\n",
    "for comp_num in range(10):\n",
    "    print(\"Top terms in component #{}\".format(comp_num), end=\" \")\n",
    "    for i in sorted_comp[comp_num, :5]:\n",
    "        print(terms[i], end=\", \")\n",
    "    print()"
   ]
  },
  {
   "cell_type": "code",
   "execution_count": 52,
   "metadata": {
    "scrolled": true
   },
   "outputs": [
    {
     "name": "stdout",
     "output_type": "stream",
     "text": [
      "Top terms for cluster 0: open, 6, australian, australian open, hewitt, 7, federer, match, grand slam, final, wimbledon, slam, grand, roddick, safin, \n",
      "Top terms for cluster 1: ireland, england, wale, nation, six nation, scotland, six, italy, half, france, williams, side, try, hodgson, wing, \n",
      "Top terms for cluster 2: club, rugby, england, cup, bath, director, coach, new, sri, team, celtic, want, season, zealand, new zealand, \n",
      "Top terms for cluster 3: athens, olympic, race, athletics, indoor, medal, record, athlete, drug, ban, marathon, champion, chepkemei, paula, european, \n",
      "Top terms for cluster 4: cricket, pakistan, ball, test, wicket, day, england, south, series, africa, south africa, vaughan, australia, india, run, \n",
      "Top terms for cluster 5: chelsea, arsenal, liverpool, club, newcastle, want, real, ferguson, manager, bos, league, manchester, souness, madrid, city, \n",
      "Top terms for cluster 6: moya, davis cup, davis, roddick, spain, cup, nadal, clay, seville, 6, beat, 7, carlos, single, victory, \n"
     ]
    }
   ],
   "source": [
    "# K-means clustering using LSA-transformed X\n",
    "svd_kmeans = KMeans(n_clusters=7, random_state=rs).fit(X_trans)\n",
    "\n",
    "# transform cluster centers back to original feature space for visualisation\n",
    "original_space_centroids = svd.inverse_transform(svd_kmeans.cluster_centers_)\n",
    "\n",
    "# visualisation\n",
    "visualise_text_cluster(svd_kmeans.n_clusters, original_space_centroids, tfidf_vec.get_feature_names(), num_word = 15)"
   ]
  },
  {
   "cell_type": "markdown",
   "metadata": {
    "collapsed": true
   },
   "source": [
    "### 7. State how many clusters are generated? Name each cluster meaningfully according to the terms that appear in the clusters?"
   ]
  },
  {
   "cell_type": "markdown",
   "metadata": {},
   "source": [
    "There were seven clusters generated through singular value decomposition. These clusters each had meaningful categories and themes.\n",
    "\n",
    "Cluster 1: Australian Open Tennis\n",
    "\n",
    "Containing terms such as Hewitt, Federer, Australian Open and Grand Slam, this cluster is about professional tennis.\n",
    "\n",
    "Cluster 2: Six Nation Rugby Union\n",
    "      \n",
    "Featuring the term 'Six Nation' and the six nations that competed in the tournament, 'Ireland', 'England', 'Wales', 'Scotland', 'Italy' and 'France', this cluster focuses on the annual Six Nationa Rugby Union competition     \n",
    "        \n",
    "Cluster 3: Rugby Team Changes\n",
    "\n",
    "This cluster is about changes in staff and players in rugby teams. This is evidenced by the terms 'rugby', 'club', 'director', 'coach', 'new' and 'want'\n",
    "\n",
    "Cluster 4: Athletics Drug Bans\n",
    "\n",
    "With the terms 'Athens', 'Olympic', 'athletics', 'drug' and 'ban', this cluster is about drug related bans occurring at the Athens Olympics.\n",
    "\n",
    "Cluster 5: Cricket Tests\n",
    "\n",
    "Featuring cricketing nations such as 'Pakistan', 'Australia', 'South Africa' and 'India', as well as the terms 'cricket', 'test', 'wicket' and 'run'. This section is about cricket test matches between nations.\n",
    "\n",
    "Cluster 6: European Football\n",
    "\n",
    "Naming several prominent European Football clubs, 'Chelsea', 'Arsenal', 'Liverpool' and 'Manchester', this section is about the European Football League\n",
    "\n",
    "Cluster 7: Davis Cup Tennis\n",
    "\n",
    "The final cluster is about the Davis Cup in tennis. This can be shown by the terms 'Davis Cup' and the names of famous professional tennis players such as 'Roddick', 'Nadal' and 'Moya'."
   ]
  },
  {
   "cell_type": "markdown",
   "metadata": {},
   "source": [
    "### 8. Identify the first fifteen high frequent terms (that are not stop words or noise) in the start list?"
   ]
  },
  {
   "cell_type": "markdown",
   "metadata": {},
   "source": [
    "To find the first fifteen most frequent terms, the remaining terms used in the singular value decomposition are extracted from the complete list of terms ordered by term frequency, created in question 4."
   ]
  },
  {
   "cell_type": "code",
   "execution_count": null,
   "metadata": {
    "collapsed": true
   },
   "outputs": [],
   "source": [
    "svdTerms = []\n",
    "for term in orderedTerms:\n",
    "    if term['term'] in tfidf_vec.get_feature_names():\n",
    "        svdTerms.append(term)"
   ]
  },
  {
   "cell_type": "code",
   "execution_count": 60,
   "metadata": {},
   "outputs": [
    {
     "name": "stdout",
     "output_type": "stream",
     "text": [
      "1)\tTerm: england \tFrequency: 199\n",
      "2)\tTerm: team \tFrequency: 144\n",
      "3)\tTerm: match \tFrequency: 133\n",
      "4)\tTerm: second \tFrequency: 132\n",
      "5)\tTerm: set \tFrequency: 131\n",
      "6)\tTerm: 6 \tFrequency: 130\n",
      "7)\tTerm: give \tFrequency: 126\n",
      "8)\tTerm: day \tFrequency: 126\n",
      "9)\tTerm: open \tFrequency: 126\n",
      "10)\tTerm: final \tFrequency: 120\n",
      "11)\tTerm: new \tFrequency: 116\n",
      "12)\tTerm: want \tFrequency: 113\n",
      "13)\tTerm: three \tFrequency: 112\n",
      "14)\tTerm: cup \tFrequency: 111\n",
      "15)\tTerm: good \tFrequency: 110\n",
      "16)\tTerm: think \tFrequency: 110\n",
      "17)\tTerm: u \tFrequency: 109\n",
      "18)\tTerm: club \tFrequency: 109\n",
      "19)\tTerm: four \tFrequency: 107\n",
      "20)\tTerm: run \tFrequency: 106\n",
      "21)\tTerm: injury \tFrequency: 105\n",
      "22)\tTerm: roddick \tFrequency: 104\n",
      "23)\tTerm: champion \tFrequency: 103\n",
      "24)\tTerm: test \tFrequency: 99\n",
      "25)\tTerm: point \tFrequency: 97\n",
      "26)\tTerm: end \tFrequency: 96\n",
      "27)\tTerm: ball \tFrequency: 96\n",
      "28)\tTerm: well \tFrequency: 93\n",
      "29)\tTerm: season \tFrequency: 93\n",
      "30)\tTerm: side \tFrequency: 93\n",
      "31)\tTerm: lose \tFrequency: 92\n",
      "32)\tTerm: like \tFrequency: 92\n",
      "33)\tTerm: half \tFrequency: 90\n",
      "34)\tTerm: start \tFrequency: 89\n",
      "35)\tTerm: old \tFrequency: 88\n",
      "36)\tTerm: could \tFrequency: 87\n",
      "37)\tTerm: six \tFrequency: 87\n",
      "38)\tTerm: next \tFrequency: 86\n",
      "39)\tTerm: best \tFrequency: 84\n",
      "40)\tTerm: look \tFrequency: 83\n"
     ]
    }
   ],
   "source": [
    "for i, term in enumerate(svdTerms[0:40]):\n",
    "    print(str(i + 1) + \")\\tTerm:\", term['term'], \"\\tFrequency:\", term['tf'])"
   ]
  },
  {
   "cell_type": "markdown",
   "metadata": {},
   "source": [
    "The top fifteen terms are:\n",
    "\n",
    "1. England\n",
    "2. Team\n",
    "3. Match\n",
    "4. Second\n",
    "5. Set\n",
    "6. Give\n",
    "7. Day\n",
    "8. Open\n",
    "9. Final\n",
    "10. New\n",
    "11. Want\n",
    "12. Cup\n",
    "13. Good\n",
    "14. Think\n",
    "15. Club\n",
    "\n",
    "\n"
   ]
  },
  {
   "cell_type": "markdown",
   "metadata": {},
   "source": [
    "### 9. Describe how these clusters can be useful in the online personalised news story service planned."
   ]
  },
  {
   "cell_type": "markdown",
   "metadata": {},
   "source": [
    "From the clusters discerned in this section, there are several observations that can be made. However, the news articles focus primarily on sport. This may be a result of a biased sample, choosing only sports related articles, but this does not mean the observations are invalid. Instead, these observations can be applied specifically to sports journalism.\n",
    "\n",
    "Firstly, the clusters seem to be evenly split between different sports. Cricket, tennis, rugby union, football (soccer), and athletics are represented. This implies an even coverage of popular sports is necessary. There may be available audiences for each discipline, and focusing too hard on a singular sport will shrink the audience.\n",
    "\n",
    "Secondly, the clusters focus on the 'highest' levels of the sport. The Australian Open and Davis Cup for tennis, the international tests for cricket, and the European football leagues. The implication is that there is the most interest around the highest levels and greatest competitions of the sport.\n",
    "\n",
    "Finally, there are also clusters relating to background machinations and controversy. For example, the drug bans in the Athens Olympics and the potential new managers in European Football. This ties in to the second point, as audiences are most likely interested in the events that can affect the outcomes of their sports championships and tournaments."
   ]
  }
 ],
 "metadata": {
  "kernelspec": {
   "display_name": "Python 3",
   "language": "python",
   "name": "python3"
  },
  "language_info": {
   "codemirror_mode": {
    "name": "ipython",
    "version": 3
   },
   "file_extension": ".py",
   "mimetype": "text/x-python",
   "name": "python",
   "nbconvert_exporter": "python",
   "pygments_lexer": "ipython3",
   "version": "3.6.1"
  }
 },
 "nbformat": 4,
 "nbformat_minor": 2
}
