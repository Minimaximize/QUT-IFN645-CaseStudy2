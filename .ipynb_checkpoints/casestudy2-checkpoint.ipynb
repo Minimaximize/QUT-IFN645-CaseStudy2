{
 "cells": [
  {
   "cell_type": "markdown",
   "metadata": {},
   "source": [
    "# IFN645 Case Study 2\n",
    "## Mining from Manufacturing, Supermarket, News Stories and Web Log Data\n",
    "\n",
    "### Contents\n",
    "1. [](#clust)\n",
    "2. [](#association)\n",
    "3. [](#text)\n",
    "4. [](#web)\n",
    "\n",
    "---\n",
    "## Part 1: Clustering Pre-processing and K-means analysis<a name=\"clust\"></a>\n"
   ]
  },
  {
   "cell_type": "markdown",
   "metadata": {},
   "source": [
    "---\n",
    "## Part 2: Association Mining and it's data Pre-processing<a name=\"association\"></a>\n",
    "\n",
    "\n",
    "\n"
   ]
  },
  {
   "cell_type": "markdown",
   "metadata": {},
   "source": [
    "---\n",
    "## Part 3: Text Mining<a name=\"text\"></a>\n",
    "\n",
    "\n",
    "\n"
   ]
  },
  {
   "cell_type": "markdown",
   "metadata": {},
   "source": [
    "---\n",
    "## Part 4: Web Mining<a name=\"web\"></a>\n",
    "\n",
    "\n",
    "\n"
   ]
  }
 ],
 "metadata": {
  "kernelspec": {
   "display_name": "Python 3",
   "language": "python",
   "name": "python3"
  },
  "language_info": {
   "codemirror_mode": {
    "name": "ipython",
    "version": 3
   },
   "file_extension": ".py",
   "mimetype": "text/x-python",
   "name": "python",
   "nbconvert_exporter": "python",
   "pygments_lexer": "ipython3",
   "version": "3.6.1"
  }
 },
 "nbformat": 4,
 "nbformat_minor": 2
}
