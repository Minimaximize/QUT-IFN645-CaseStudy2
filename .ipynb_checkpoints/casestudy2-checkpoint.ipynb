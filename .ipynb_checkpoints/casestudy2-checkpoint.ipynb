{
 "cells": [
  {
   "cell_type": "markdown",
   "metadata": {},
   "source": [
    "# IFN645 Case Study 2\n",
    "## Mining from Manufacturing, Supermarket, News Stories and Web Log Data\n",
    "\n",
    "### Contents\n",
    "1. [Clustering & Pre-processing](#clust)\n",
    "2. [Association Mining](#association)\n",
    "3. [Text Mining](#text)\n",
    "4. [Web Mining](#web)\n",
    "\n",
    "---\n",
    "## Part 1: Clustering Pre-processing and K-means analysis<a name=\"clust\"></a>\n",
    "### 1. Can you identify data quality issues in this dataset such as unusual data types, missing values, etc?\n",
    "In the process of importing the data, the dataframe.info() method can be used to evaluate the dataset."
   ]
  },
  {
   "cell_type": "code",
   "execution_count": 12,
   "metadata": {},
   "outputs": [
    {
     "name": "stdout",
     "output_type": "stream",
     "text": [
      "<class 'pandas.core.frame.DataFrame'>\n",
      "RangeIndex: 675 entries, 0 to 674\n",
      "Data columns (total 8 columns):\n",
      "LOCATION_NUMBER    675 non-null int64\n",
      "REPORT_DATE        675 non-null object\n",
      "DEALER_CODE        675 non-null object\n",
      "UTE                675 non-null object\n",
      "HATCH              675 non-null object\n",
      "WAG0N              675 non-null object\n",
      "SEDAN              675 non-null object\n",
      "K__SALES_TOT       675 non-null object\n",
      "dtypes: int64(1), object(7)\n",
      "memory usage: 42.3+ KB\n"
     ]
    }
   ],
   "source": [
    "import pandas as pd\n",
    "# Import Data from csv without skipping empty cells\n",
    "df = pd.read_csv('Casestudy2-Data-Py/model_car_sales.csv', na_filter=False)\n",
    "df.info()"
   ]
  },
  {
   "cell_type": "markdown",
   "metadata": {},
   "source": [
    "From the `info()` output, we can identify the following issues\n",
    "\n",
    "#### Unusual Datatypes\n",
    "<table>\n",
    "<tr>\n",
    "<th>Variable Name</th>\n",
    "<th>Current Datatype</th>\n",
    "<th>Desired Datatype</th>\n",
    "</tr>\n",
    "<tr>\n",
    "<td>HATCH</td>\n",
    "<td>Object</td>\n",
    "<td>int64</td>\n",
    "</tr>\n",
    "<tr>\n",
    "<td>SEDAN</td>\n",
    "<td>Object</td>\n",
    "<td>int64</td>\n",
    "</tr>\n",
    "<tr>\n",
    "<td>WAGON</td>\n",
    "<td>Object</td>\n",
    "<td>int64</td>\n",
    "</tr>\n",
    "<tr>\n",
    "<td>UTE</td>\n",
    "<td>Object</td>\n",
    "<td>int64</td>\n",
    "</tr>\n",
    "<tr>\n",
    "<td>K_SALES_TOT </td>\n",
    "<td>Object</td>\n",
    "<td>int64</td>\n",
    "</tr>\n",
    "</table>\n",
    "     \n",
    "For the given data description, the fields `UTE`, `HATCH`,`SEDAN`, `WAG0N` and `K_SALES_TOT` should be interval/numerical values as opposed to objects.\n",
    "By using the `.describe()` function, we may be able to uncover the source of the issues in the dataset"
   ]
  },
  {
   "cell_type": "code",
   "execution_count": 3,
   "metadata": {},
   "outputs": [
    {
     "name": "stdout",
     "output_type": "stream",
     "text": [
      "count    675.0\n",
      "mean     338.0\n",
      "std      195.0\n",
      "min        1.0\n",
      "25%      169.5\n",
      "50%      338.0\n",
      "75%      506.5\n",
      "max      675.0\n",
      "Name: LOCATION_NUMBER, dtype: float64\n",
      "--------------------\n",
      "count            675\n",
      "unique             1\n",
      "top       2013-04-30\n",
      "freq             675\n",
      "Name: REPORT_DATE, dtype: object\n",
      "--------------------\n",
      "count          675\n",
      "unique         675\n",
      "top       Euro-531\n",
      "freq             1\n",
      "Name: DEALER_CODE, dtype: object\n",
      "--------------------\n",
      "count     675\n",
      "unique    143\n",
      "top          \n",
      "freq       22\n",
      "Name: UTE, dtype: object\n",
      "--------------------\n",
      "count     675\n",
      "unique    518\n",
      "top          \n",
      "freq       22\n",
      "Name: HATCH, dtype: object\n",
      "--------------------\n",
      "count     675\n",
      "unique    426\n",
      "top          \n",
      "freq       22\n",
      "Name: WAG0N, dtype: object\n",
      "--------------------\n",
      "count     675\n",
      "unique    501\n",
      "top          \n",
      "freq       22\n",
      "Name: SEDAN, dtype: object\n",
      "--------------------\n",
      "count     675\n",
      "unique    109\n",
      "top       932\n",
      "freq       25\n",
      "Name: K__SALES_TOT, dtype: object\n",
      "--------------------\n"
     ]
    }
   ],
   "source": [
    "# print details for all variables in dataframe\n",
    "for cols in df:\n",
    "    print(df[cols].describe())\n",
    "    print(\"-\"*20)"
   ]
  },
  {
   "cell_type": "code",
   "execution_count": null,
   "metadata": {},
   "outputs": [],
   "source": []
  },
  {
   "cell_type": "markdown",
   "metadata": {},
   "source": []
  },
  {
   "cell_type": "code",
   "execution_count": 4,
   "metadata": {},
   "outputs": [
    {
     "name": "stdout",
     "output_type": "stream",
     "text": [
      "       22\n",
      "81     15\n",
      "92     15\n",
      "90     12\n",
      "80     12\n",
      "100    11\n",
      "72     11\n",
      "106    11\n",
      "83     10\n",
      "97     10\n",
      "84     10\n",
      "70      9\n",
      "93      9\n",
      "69      9\n",
      "91      9\n",
      "77      9\n",
      "82      9\n",
      "75      9\n",
      "99      9\n",
      "116     9\n",
      "88      9\n",
      "68      9\n",
      "73      9\n",
      "98      8\n",
      "85      8\n",
      "74      8\n",
      "89      8\n",
      "78      8\n",
      "66      8\n",
      "114     8\n",
      "       ..\n",
      "157     1\n",
      "146     1\n",
      "37      1\n",
      "131     1\n",
      "150     1\n",
      "143     1\n",
      "155     1\n",
      "40      1\n",
      "202     1\n",
      "190     1\n",
      "23      1\n",
      "180     1\n",
      "39      1\n",
      "198     1\n",
      "166     1\n",
      "41      1\n",
      "142     1\n",
      "206     1\n",
      "46      1\n",
      "52      1\n",
      "178     1\n",
      "191     1\n",
      "153     1\n",
      "197     1\n",
      "8       1\n",
      "31      1\n",
      "9       1\n",
      "196     1\n",
      "209     1\n",
      "173     1\n",
      "Name: UTE, Length: 143, dtype: int64\n"
     ]
    }
   ],
   "source": [
    "# Check for cause of issues in one of the variables\n",
    "print(df['UTE'].value_counts())"
   ]
  },
  {
   "cell_type": "code",
   "execution_count": 10,
   "metadata": {},
   "outputs": [
    {
     "name": "stdout",
     "output_type": "stream",
     "text": [
      "[[4 '2013-04-30' 'Euro-103' '' '' '' '' '']\n",
      " [24 '2013-04-30' 'Euro-123' '' '' '' '' '']\n",
      " [50 '2013-04-30' 'Euro-149' '' '' '' '' '']\n",
      " [108 '2013-04-30' 'Euro-201' '' '' '' '' '']\n",
      " [173 '2013-04-30' 'Euro-260' '' '' '' '' '']\n",
      " [174 '2013-04-30' 'Euro-261' '' '' '' '' '']\n",
      " [175 '2013-04-30' 'Euro-262' '' '' '' '' '']\n",
      " [176 '2013-04-30' 'Euro-263' '' '' '' '' '']\n",
      " [177 '2013-04-30' 'Euro-264' '' '' '' '' '']\n",
      " [198 '2013-04-30' 'Euro-283' '' '' '' '' '']\n",
      " [199 '2013-04-30' 'Euro-284' '' '' '' '' '']\n",
      " [200 '2013-04-30' 'Euro-285' '' '' '' '' '']\n",
      " [298 '2013-04-30' 'Euro-374' '' '' '' '' '']\n",
      " [299 '2013-04-30' 'Euro-375' '' '' '' '' '']\n",
      " [300 '2013-04-30' 'Euro-376' '' '' '' '' '']\n",
      " [643 '2013-04-30' 'Euro-688' '' '' '' '' '']\n",
      " [644 '2013-04-30' 'Euro-689' '' '' '' '' '']\n",
      " [645 '2013-04-30' 'Euro-69' '' '' '' '' '']\n",
      " [646 '2013-04-30' 'Euro-70' '' '' '' '' '']\n",
      " [665 '2013-04-30' 'Euro-89' '' '' '' '' '']\n",
      " [666 '2013-04-30' 'Euro-90' '' '' '' '' '']\n",
      " [667 '2013-04-30' 'Euro-91' '' '' '' '' '']]\n"
     ]
    }
   ],
   "source": [
    "# See Rows where UTE contains empty string\n",
    "print(df[df['UTE']==''].as_matrix())"
   ]
  },
  {
   "cell_type": "markdown",
   "metadata": {},
   "source": [
    "#### Missing Values\n",
    "Missing Values are present int he following Variables:\n",
    "<table>\n",
    "    <tr>\n",
    "        <th>Variable Name</th>\n",
    "        <th># Missing Values</th>\n",
    "    </tr>\n",
    "    <tr>\n",
    "        <td>HATCH</td>\n",
    "        <td>22</td>\n",
    "    </tr>\n",
    "    <tr>\n",
    "        <td>SEDAN</td>\n",
    "        <td>22</td>\n",
    "    </tr>\n",
    "    <tr>\n",
    "        <td>WAGON</td>\n",
    "        <td>22</td>\n",
    "    </tr>\n",
    "    <tr>\n",
    "        <td>UTE</td>\n",
    "        <td>22</td>\n",
    "    </tr>\n",
    "    <tr>\n",
    "        <td>K_SALES_TOT</td>\n",
    "        <td>22</td>\n",
    "    </tr>\n",
    "</table>"
   ]
  },
  {
   "cell_type": "markdown",
   "metadata": {},
   "source": [
    "---\n",
    "## Part 2: Association Mining and it's data Pre-processing<a name=\"association\"></a>\n",
    "\n",
    "\n",
    "\n"
   ]
  },
  {
   "cell_type": "markdown",
   "metadata": {},
   "source": [
    "---\n",
    "## Part 3: Text Mining<a name=\"text\"></a>\n",
    "\n",
    "\n",
    "\n"
   ]
  },
  {
   "cell_type": "markdown",
   "metadata": {},
   "source": [
    "---\n",
    "## Part 4: Web Mining<a name=\"web\"></a>\n",
    "\n",
    "\n",
    "\n"
   ]
  }
 ],
 "metadata": {
  "kernelspec": {
   "display_name": "Python 3",
   "language": "python",
   "name": "python3"
  },
  "language_info": {
   "codemirror_mode": {
    "name": "ipython",
    "version": 3
   },
   "file_extension": ".py",
   "mimetype": "text/x-python",
   "name": "python",
   "nbconvert_exporter": "python",
   "pygments_lexer": "ipython3",
   "version": "3.6.4"
  }
 },
 "nbformat": 4,
 "nbformat_minor": 2
}
